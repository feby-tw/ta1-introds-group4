{
  "nbformat": 4,
  "nbformat_minor": 0,
  "metadata": {
    "colab": {
      "provenance": [],
      "include_colab_link": true
    },
    "kernelspec": {
      "name": "python3",
      "display_name": "Python 3"
    },
    "language_info": {
      "name": "python"
    }
  },
  "cells": [
    {
      "cell_type": "markdown",
      "metadata": {
        "id": "view-in-github",
        "colab_type": "text"
      },
      "source": [
        "<a href=\"https://colab.research.google.com/github/feby-tw/ta1-introds-group4/blob/main/team-assignment-1.ipynb\" target=\"_parent\"><img src=\"https://colab.research.google.com/assets/colab-badge.svg\" alt=\"Open In Colab\"/></a>"
      ]
    },
    {
      "cell_type": "code",
      "execution_count": 2,
      "metadata": {
        "id": "Mv9WbzHPh1lo"
      },
      "outputs": [],
      "source": [
        "import numpy as np\n",
        "import pandas as pd"
      ]
    },
    {
      "cell_type": "code",
      "source": [
        "df = pd.read_csv(\"/content/dirty_cafe_sales.csv\")"
      ],
      "metadata": {
        "id": "QqT4t-02h-MI"
      },
      "execution_count": 4,
      "outputs": []
    },
    {
      "cell_type": "markdown",
      "source": [
        "Nomor 4 dan 5 (Mochammad Chafiedz Afrilian)"
      ],
      "metadata": {
        "id": "038Uf8DQa6yj"
      }
    },
    {
      "cell_type": "code",
      "source": [
        "# start eksplorasi\n",
        "\n",
        "# struktur data\n",
        "print(\"Dimensi dataset:\", df.shape)\n",
        "print(\"\\nTipe data setiap kolom:\")\n",
        "print(df.dtypes)\n",
        "\n",
        "print(\"\\nInfo dataset:\")\n",
        "print(df.info())\n",
        "print(df.head())\n",
        "\n",
        "# statistik deskriptif\n",
        "print(\"\\nStatistik numerik:\")\n",
        "print(df.describe())\n",
        "\n",
        "# cek missing value\n",
        "print(\"\\nJumlah missing values per kolom:\")\n",
        "print(df.isnull().sum())\n",
        "\n",
        "# cek duplicate data\n",
        "print(\"Jumlah data duplikat:\", df.duplicated().sum())\n"
      ],
      "metadata": {
        "colab": {
          "base_uri": "https://localhost:8080/"
        },
        "id": "N7fko2_5a4Vw",
        "outputId": "67060cda-1eda-46c9-a6df-e894063f0167"
      },
      "execution_count": 5,
      "outputs": [
        {
          "output_type": "stream",
          "name": "stdout",
          "text": [
            "Dimensi dataset: (10000, 8)\n",
            "\n",
            "Tipe data setiap kolom:\n",
            "Transaction ID      object\n",
            "Item                object\n",
            "Quantity            object\n",
            "Price Per Unit      object\n",
            "Total Spent         object\n",
            "Payment Method      object\n",
            "Location            object\n",
            "Transaction Date    object\n",
            "dtype: object\n",
            "\n",
            "Info dataset:\n",
            "<class 'pandas.core.frame.DataFrame'>\n",
            "RangeIndex: 10000 entries, 0 to 9999\n",
            "Data columns (total 8 columns):\n",
            " #   Column            Non-Null Count  Dtype \n",
            "---  ------            --------------  ----- \n",
            " 0   Transaction ID    10000 non-null  object\n",
            " 1   Item              9667 non-null   object\n",
            " 2   Quantity          9862 non-null   object\n",
            " 3   Price Per Unit    9821 non-null   object\n",
            " 4   Total Spent       9827 non-null   object\n",
            " 5   Payment Method    7421 non-null   object\n",
            " 6   Location          6735 non-null   object\n",
            " 7   Transaction Date  9841 non-null   object\n",
            "dtypes: object(8)\n",
            "memory usage: 625.1+ KB\n",
            "None\n",
            "  Transaction ID    Item Quantity Price Per Unit Total Spent  Payment Method  \\\n",
            "0    TXN_1961373  Coffee        2            2.0         4.0     Credit Card   \n",
            "1    TXN_4977031    Cake        4            3.0        12.0            Cash   \n",
            "2    TXN_4271903  Cookie        4            1.0       ERROR     Credit Card   \n",
            "3    TXN_7034554   Salad        2            5.0        10.0         UNKNOWN   \n",
            "4    TXN_3160411  Coffee        2            2.0         4.0  Digital Wallet   \n",
            "\n",
            "   Location Transaction Date  \n",
            "0  Takeaway       2023-09-08  \n",
            "1  In-store       2023-05-16  \n",
            "2  In-store       2023-07-19  \n",
            "3   UNKNOWN       2023-04-27  \n",
            "4  In-store       2023-06-11  \n",
            "\n",
            "Statistik numerik:\n",
            "       Transaction ID   Item Quantity Price Per Unit Total Spent  \\\n",
            "count           10000   9667     9862           9821        9827   \n",
            "unique          10000     10        7              8          19   \n",
            "top       TXN_9226047  Juice        5            3.0         6.0   \n",
            "freq                1   1171     2013           2429         979   \n",
            "\n",
            "        Payment Method  Location Transaction Date  \n",
            "count             7421      6735             9841  \n",
            "unique               5         4              367  \n",
            "top     Digital Wallet  Takeaway          UNKNOWN  \n",
            "freq              2291      3022              159  \n",
            "\n",
            "Jumlah missing values per kolom:\n",
            "Transaction ID         0\n",
            "Item                 333\n",
            "Quantity             138\n",
            "Price Per Unit       179\n",
            "Total Spent          173\n",
            "Payment Method      2579\n",
            "Location            3265\n",
            "Transaction Date     159\n",
            "dtype: int64\n",
            "Jumlah data duplikat: 0\n"
          ]
        }
      ]
    },
    {
      "cell_type": "markdown",
      "source": [
        "No. 6 (Nadiyah Shabrina)\n",
        "\n",
        "a. Menghapus atau mengisi missing values dengan teknik yang sesuai (mean, median, interpolasi, atau penghapusan)."
      ],
      "metadata": {
        "id": "oodPMFvbbbyL"
      }
    },
    {
      "cell_type": "code",
      "source": [
        "# 1. Ubah kolom ke tipe data numerik\n",
        "df['Quantity'] = pd.to_numeric(df['Quantity'], errors='coerce')\n",
        "df['Price Per Unit'] = pd.to_numeric(df['Price Per Unit'], errors='coerce')\n",
        "df['Total Spent'] = pd.to_numeric(df['Total Spent'], errors='coerce')\n",
        "\n",
        "# Ubah kolom tanggal transaksi menjadi datetime. gak menggunakkan median\n",
        "df['Transaction Date'] = pd.to_datetime(df['Transaction Date'], errors='coerce')\n",
        "\n",
        "# 2. Mengisi nilai numerik yang hilang/kosong\n",
        "for col in ['Quantity', 'Price Per Unit', 'Total Spent']:\n",
        "    df[col].fillna(df[col].median(), inplace=True)\n",
        "\n",
        "# 3. Hapus baris dengan nilai yang hilang di kolom lainnya\n",
        "df.dropna(subset=['Item', 'Payment Method', 'Location'], inplace=True)\n",
        "# Menghapus baris yang memiliki nilai yang hilang di kolom 'Transaction Date'\n",
        "df.dropna(subset=['Transaction Date'], inplace=True)\n",
        "\n",
        "# 4. Check hasil akhir\n",
        "print(df.isna().sum())"
      ],
      "metadata": {
        "colab": {
          "base_uri": "https://localhost:8080/"
        },
        "id": "FdaCd3O9bbMQ",
        "outputId": "0ed358e4-8ba0-4382-c265-31ba6611506a"
      },
      "execution_count": 6,
      "outputs": [
        {
          "output_type": "stream",
          "name": "stdout",
          "text": [
            "Transaction ID      0\n",
            "Item                0\n",
            "Quantity            0\n",
            "Price Per Unit      0\n",
            "Total Spent         0\n",
            "Payment Method      0\n",
            "Location            0\n",
            "Transaction Date    0\n",
            "dtype: int64\n"
          ]
        },
        {
          "output_type": "stream",
          "name": "stderr",
          "text": [
            "/tmp/ipython-input-3343538173.py:11: FutureWarning: A value is trying to be set on a copy of a DataFrame or Series through chained assignment using an inplace method.\n",
            "The behavior will change in pandas 3.0. This inplace method will never work because the intermediate object on which we are setting values always behaves as a copy.\n",
            "\n",
            "For example, when doing 'df[col].method(value, inplace=True)', try using 'df.method({col: value}, inplace=True)' or df[col] = df[col].method(value) instead, to perform the operation inplace on the original object.\n",
            "\n",
            "\n",
            "  df[col].fillna(df[col].median(), inplace=True)\n"
          ]
        }
      ]
    },
    {
      "cell_type": "markdown",
      "source": [
        "b. Mengidentifikasi outliers menggunakan metode Boxplot/Z-score/IQR dan menangani outliers yang tidak relevan."
      ],
      "metadata": {
        "id": "96ZCdKuNb2q_"
      }
    },
    {
      "cell_type": "code",
      "source": [
        "# Menggunakan IQR untuk menghilangkan outlier\n",
        "numerical_cols = ['Quantity', 'Price Per Unit', 'Total Spent']\n",
        "\n",
        "for col in numerical_cols:\n",
        "    Q1 = df[col].quantile(0.25)\n",
        "    Q3 = df[col].quantile(0.75)\n",
        "    IQR = Q3 - Q1\n",
        "\n",
        "    lower_bound = Q1 - 1.5 * IQR\n",
        "    upper_bound = Q3 + 1.5 * IQR\n",
        "\n",
        "    df[col] = np.where(df[col] < lower_bound, lower_bound, df[col])\n",
        "    df[col] = np.where(df[col] > upper_bound, upper_bound, df[col])\n",
        "\n",
        "print(\"Outlier diolah dengan metode pembatasan capping.\")"
      ],
      "metadata": {
        "colab": {
          "base_uri": "https://localhost:8080/"
        },
        "id": "_vgxIvIWb043",
        "outputId": "1caaf3ec-3695-4182-f054-95e30429b53f"
      },
      "execution_count": 7,
      "outputs": [
        {
          "output_type": "stream",
          "name": "stdout",
          "text": [
            "Outlier diolah dengan metode pembatasan capping.\n"
          ]
        }
      ]
    },
    {
      "cell_type": "markdown",
      "source": [
        "c. Menghapus duplikasi data dan memastikan data tetap konsisten."
      ],
      "metadata": {
        "id": "NyPfnvfVb4vL"
      }
    },
    {
      "cell_type": "code",
      "source": [
        "print(\"Jumlah Jumlah baris duplikat sebelum dihapus:\", df.duplicated().sum())"
      ],
      "metadata": {
        "colab": {
          "base_uri": "https://localhost:8080/"
        },
        "id": "tPCZsCLTb6A8",
        "outputId": "78d41045-caed-44ee-c9ba-9a42c6b0bf87"
      },
      "execution_count": 8,
      "outputs": [
        {
          "output_type": "stream",
          "name": "stdout",
          "text": [
            "Jumlah Jumlah baris duplikat sebelum dihapus: 0\n"
          ]
        }
      ]
    },
    {
      "cell_type": "code",
      "source": [
        "df.drop_duplicates(inplace=True)\n",
        "print(\"Jumlah baris duplikat setelah dihapus:\", df.duplicated().sum())"
      ],
      "metadata": {
        "colab": {
          "base_uri": "https://localhost:8080/"
        },
        "id": "5jnXIf42b_UJ",
        "outputId": "66f709df-d5d0-4562-beb5-0f12b33f079d"
      },
      "execution_count": 9,
      "outputs": [
        {
          "output_type": "stream",
          "name": "stdout",
          "text": [
            "Jumlah baris duplikat setelah dihapus: 0\n"
          ]
        }
      ]
    },
    {
      "cell_type": "markdown",
      "source": [
        "Pengecekan terakhir"
      ],
      "metadata": {
        "id": "n8UGKpXqcCPz"
      }
    },
    {
      "cell_type": "code",
      "source": [
        "print(\"Missing values setelah dibersihkan:\")\n",
        "display(df.isna().sum())\n",
        "\n",
        "print(\"\\nValue ranges setelah outlier diolah:\")\n",
        "display(df[['Quantity', 'Price Per Unit', 'Total Spent']].describe())\n",
        "\n",
        "print(\"\\njumlah baris duplikasi setelah dibersihkan:\")\n",
        "display(df.duplicated().sum())"
      ],
      "metadata": {
        "colab": {
          "base_uri": "https://localhost:8080/",
          "height": 724
        },
        "id": "wxbrEzcPcEoE",
        "outputId": "d15caa80-a8f3-4497-d69f-e0739bb3e809"
      },
      "execution_count": 10,
      "outputs": [
        {
          "output_type": "stream",
          "name": "stdout",
          "text": [
            "Missing values setelah dibersihkan:\n"
          ]
        },
        {
          "output_type": "display_data",
          "data": {
            "text/plain": [
              "Transaction ID      0\n",
              "Item                0\n",
              "Quantity            0\n",
              "Price Per Unit      0\n",
              "Total Spent         0\n",
              "Payment Method      0\n",
              "Location            0\n",
              "Transaction Date    0\n",
              "dtype: int64"
            ],
            "text/html": [
              "<div>\n",
              "<style scoped>\n",
              "    .dataframe tbody tr th:only-of-type {\n",
              "        vertical-align: middle;\n",
              "    }\n",
              "\n",
              "    .dataframe tbody tr th {\n",
              "        vertical-align: top;\n",
              "    }\n",
              "\n",
              "    .dataframe thead th {\n",
              "        text-align: right;\n",
              "    }\n",
              "</style>\n",
              "<table border=\"1\" class=\"dataframe\">\n",
              "  <thead>\n",
              "    <tr style=\"text-align: right;\">\n",
              "      <th></th>\n",
              "      <th>0</th>\n",
              "    </tr>\n",
              "  </thead>\n",
              "  <tbody>\n",
              "    <tr>\n",
              "      <th>Transaction ID</th>\n",
              "      <td>0</td>\n",
              "    </tr>\n",
              "    <tr>\n",
              "      <th>Item</th>\n",
              "      <td>0</td>\n",
              "    </tr>\n",
              "    <tr>\n",
              "      <th>Quantity</th>\n",
              "      <td>0</td>\n",
              "    </tr>\n",
              "    <tr>\n",
              "      <th>Price Per Unit</th>\n",
              "      <td>0</td>\n",
              "    </tr>\n",
              "    <tr>\n",
              "      <th>Total Spent</th>\n",
              "      <td>0</td>\n",
              "    </tr>\n",
              "    <tr>\n",
              "      <th>Payment Method</th>\n",
              "      <td>0</td>\n",
              "    </tr>\n",
              "    <tr>\n",
              "      <th>Location</th>\n",
              "      <td>0</td>\n",
              "    </tr>\n",
              "    <tr>\n",
              "      <th>Transaction Date</th>\n",
              "      <td>0</td>\n",
              "    </tr>\n",
              "  </tbody>\n",
              "</table>\n",
              "</div><br><label><b>dtype:</b> int64</label>"
            ]
          },
          "metadata": {}
        },
        {
          "output_type": "stream",
          "name": "stdout",
          "text": [
            "\n",
            "Value ranges setelah outlier diolah:\n"
          ]
        },
        {
          "output_type": "display_data",
          "data": {
            "text/plain": [
              "          Quantity  Price Per Unit  Total Spent\n",
              "count  4631.000000     4631.000000  4631.000000\n",
              "mean      3.023105        2.958864     8.853379\n",
              "std       1.384621        1.259514     5.825142\n",
              "min       1.000000        1.000000     1.000000\n",
              "25%       2.000000        2.000000     4.000000\n",
              "50%       3.000000        3.000000     8.000000\n",
              "75%       4.000000        4.000000    12.000000\n",
              "max       5.000000        5.000000    24.000000"
            ],
            "text/html": [
              "\n",
              "  <div id=\"df-e1ebfad4-839c-42d8-b96f-eea52e1cbdfe\" class=\"colab-df-container\">\n",
              "    <div>\n",
              "<style scoped>\n",
              "    .dataframe tbody tr th:only-of-type {\n",
              "        vertical-align: middle;\n",
              "    }\n",
              "\n",
              "    .dataframe tbody tr th {\n",
              "        vertical-align: top;\n",
              "    }\n",
              "\n",
              "    .dataframe thead th {\n",
              "        text-align: right;\n",
              "    }\n",
              "</style>\n",
              "<table border=\"1\" class=\"dataframe\">\n",
              "  <thead>\n",
              "    <tr style=\"text-align: right;\">\n",
              "      <th></th>\n",
              "      <th>Quantity</th>\n",
              "      <th>Price Per Unit</th>\n",
              "      <th>Total Spent</th>\n",
              "    </tr>\n",
              "  </thead>\n",
              "  <tbody>\n",
              "    <tr>\n",
              "      <th>count</th>\n",
              "      <td>4631.000000</td>\n",
              "      <td>4631.000000</td>\n",
              "      <td>4631.000000</td>\n",
              "    </tr>\n",
              "    <tr>\n",
              "      <th>mean</th>\n",
              "      <td>3.023105</td>\n",
              "      <td>2.958864</td>\n",
              "      <td>8.853379</td>\n",
              "    </tr>\n",
              "    <tr>\n",
              "      <th>std</th>\n",
              "      <td>1.384621</td>\n",
              "      <td>1.259514</td>\n",
              "      <td>5.825142</td>\n",
              "    </tr>\n",
              "    <tr>\n",
              "      <th>min</th>\n",
              "      <td>1.000000</td>\n",
              "      <td>1.000000</td>\n",
              "      <td>1.000000</td>\n",
              "    </tr>\n",
              "    <tr>\n",
              "      <th>25%</th>\n",
              "      <td>2.000000</td>\n",
              "      <td>2.000000</td>\n",
              "      <td>4.000000</td>\n",
              "    </tr>\n",
              "    <tr>\n",
              "      <th>50%</th>\n",
              "      <td>3.000000</td>\n",
              "      <td>3.000000</td>\n",
              "      <td>8.000000</td>\n",
              "    </tr>\n",
              "    <tr>\n",
              "      <th>75%</th>\n",
              "      <td>4.000000</td>\n",
              "      <td>4.000000</td>\n",
              "      <td>12.000000</td>\n",
              "    </tr>\n",
              "    <tr>\n",
              "      <th>max</th>\n",
              "      <td>5.000000</td>\n",
              "      <td>5.000000</td>\n",
              "      <td>24.000000</td>\n",
              "    </tr>\n",
              "  </tbody>\n",
              "</table>\n",
              "</div>\n",
              "    <div class=\"colab-df-buttons\">\n",
              "\n",
              "  <div class=\"colab-df-container\">\n",
              "    <button class=\"colab-df-convert\" onclick=\"convertToInteractive('df-e1ebfad4-839c-42d8-b96f-eea52e1cbdfe')\"\n",
              "            title=\"Convert this dataframe to an interactive table.\"\n",
              "            style=\"display:none;\">\n",
              "\n",
              "  <svg xmlns=\"http://www.w3.org/2000/svg\" height=\"24px\" viewBox=\"0 -960 960 960\">\n",
              "    <path d=\"M120-120v-720h720v720H120Zm60-500h600v-160H180v160Zm220 220h160v-160H400v160Zm0 220h160v-160H400v160ZM180-400h160v-160H180v160Zm440 0h160v-160H620v160ZM180-180h160v-160H180v160Zm440 0h160v-160H620v160Z\"/>\n",
              "  </svg>\n",
              "    </button>\n",
              "\n",
              "  <style>\n",
              "    .colab-df-container {\n",
              "      display:flex;\n",
              "      gap: 12px;\n",
              "    }\n",
              "\n",
              "    .colab-df-convert {\n",
              "      background-color: #E8F0FE;\n",
              "      border: none;\n",
              "      border-radius: 50%;\n",
              "      cursor: pointer;\n",
              "      display: none;\n",
              "      fill: #1967D2;\n",
              "      height: 32px;\n",
              "      padding: 0 0 0 0;\n",
              "      width: 32px;\n",
              "    }\n",
              "\n",
              "    .colab-df-convert:hover {\n",
              "      background-color: #E2EBFA;\n",
              "      box-shadow: 0px 1px 2px rgba(60, 64, 67, 0.3), 0px 1px 3px 1px rgba(60, 64, 67, 0.15);\n",
              "      fill: #174EA6;\n",
              "    }\n",
              "\n",
              "    .colab-df-buttons div {\n",
              "      margin-bottom: 4px;\n",
              "    }\n",
              "\n",
              "    [theme=dark] .colab-df-convert {\n",
              "      background-color: #3B4455;\n",
              "      fill: #D2E3FC;\n",
              "    }\n",
              "\n",
              "    [theme=dark] .colab-df-convert:hover {\n",
              "      background-color: #434B5C;\n",
              "      box-shadow: 0px 1px 3px 1px rgba(0, 0, 0, 0.15);\n",
              "      filter: drop-shadow(0px 1px 2px rgba(0, 0, 0, 0.3));\n",
              "      fill: #FFFFFF;\n",
              "    }\n",
              "  </style>\n",
              "\n",
              "    <script>\n",
              "      const buttonEl =\n",
              "        document.querySelector('#df-e1ebfad4-839c-42d8-b96f-eea52e1cbdfe button.colab-df-convert');\n",
              "      buttonEl.style.display =\n",
              "        google.colab.kernel.accessAllowed ? 'block' : 'none';\n",
              "\n",
              "      async function convertToInteractive(key) {\n",
              "        const element = document.querySelector('#df-e1ebfad4-839c-42d8-b96f-eea52e1cbdfe');\n",
              "        const dataTable =\n",
              "          await google.colab.kernel.invokeFunction('convertToInteractive',\n",
              "                                                    [key], {});\n",
              "        if (!dataTable) return;\n",
              "\n",
              "        const docLinkHtml = 'Like what you see? Visit the ' +\n",
              "          '<a target=\"_blank\" href=https://colab.research.google.com/notebooks/data_table.ipynb>data table notebook</a>'\n",
              "          + ' to learn more about interactive tables.';\n",
              "        element.innerHTML = '';\n",
              "        dataTable['output_type'] = 'display_data';\n",
              "        await google.colab.output.renderOutput(dataTable, element);\n",
              "        const docLink = document.createElement('div');\n",
              "        docLink.innerHTML = docLinkHtml;\n",
              "        element.appendChild(docLink);\n",
              "      }\n",
              "    </script>\n",
              "  </div>\n",
              "\n",
              "\n",
              "    <div id=\"df-3ca013d5-1182-4a59-bf1e-c7185555d98c\">\n",
              "      <button class=\"colab-df-quickchart\" onclick=\"quickchart('df-3ca013d5-1182-4a59-bf1e-c7185555d98c')\"\n",
              "                title=\"Suggest charts\"\n",
              "                style=\"display:none;\">\n",
              "\n",
              "<svg xmlns=\"http://www.w3.org/2000/svg\" height=\"24px\"viewBox=\"0 0 24 24\"\n",
              "     width=\"24px\">\n",
              "    <g>\n",
              "        <path d=\"M19 3H5c-1.1 0-2 .9-2 2v14c0 1.1.9 2 2 2h14c1.1 0 2-.9 2-2V5c0-1.1-.9-2-2-2zM9 17H7v-7h2v7zm4 0h-2V7h2v10zm4 0h-2v-4h2v4z\"/>\n",
              "    </g>\n",
              "</svg>\n",
              "      </button>\n",
              "\n",
              "<style>\n",
              "  .colab-df-quickchart {\n",
              "      --bg-color: #E8F0FE;\n",
              "      --fill-color: #1967D2;\n",
              "      --hover-bg-color: #E2EBFA;\n",
              "      --hover-fill-color: #174EA6;\n",
              "      --disabled-fill-color: #AAA;\n",
              "      --disabled-bg-color: #DDD;\n",
              "  }\n",
              "\n",
              "  [theme=dark] .colab-df-quickchart {\n",
              "      --bg-color: #3B4455;\n",
              "      --fill-color: #D2E3FC;\n",
              "      --hover-bg-color: #434B5C;\n",
              "      --hover-fill-color: #FFFFFF;\n",
              "      --disabled-bg-color: #3B4455;\n",
              "      --disabled-fill-color: #666;\n",
              "  }\n",
              "\n",
              "  .colab-df-quickchart {\n",
              "    background-color: var(--bg-color);\n",
              "    border: none;\n",
              "    border-radius: 50%;\n",
              "    cursor: pointer;\n",
              "    display: none;\n",
              "    fill: var(--fill-color);\n",
              "    height: 32px;\n",
              "    padding: 0;\n",
              "    width: 32px;\n",
              "  }\n",
              "\n",
              "  .colab-df-quickchart:hover {\n",
              "    background-color: var(--hover-bg-color);\n",
              "    box-shadow: 0 1px 2px rgba(60, 64, 67, 0.3), 0 1px 3px 1px rgba(60, 64, 67, 0.15);\n",
              "    fill: var(--button-hover-fill-color);\n",
              "  }\n",
              "\n",
              "  .colab-df-quickchart-complete:disabled,\n",
              "  .colab-df-quickchart-complete:disabled:hover {\n",
              "    background-color: var(--disabled-bg-color);\n",
              "    fill: var(--disabled-fill-color);\n",
              "    box-shadow: none;\n",
              "  }\n",
              "\n",
              "  .colab-df-spinner {\n",
              "    border: 2px solid var(--fill-color);\n",
              "    border-color: transparent;\n",
              "    border-bottom-color: var(--fill-color);\n",
              "    animation:\n",
              "      spin 1s steps(1) infinite;\n",
              "  }\n",
              "\n",
              "  @keyframes spin {\n",
              "    0% {\n",
              "      border-color: transparent;\n",
              "      border-bottom-color: var(--fill-color);\n",
              "      border-left-color: var(--fill-color);\n",
              "    }\n",
              "    20% {\n",
              "      border-color: transparent;\n",
              "      border-left-color: var(--fill-color);\n",
              "      border-top-color: var(--fill-color);\n",
              "    }\n",
              "    30% {\n",
              "      border-color: transparent;\n",
              "      border-left-color: var(--fill-color);\n",
              "      border-top-color: var(--fill-color);\n",
              "      border-right-color: var(--fill-color);\n",
              "    }\n",
              "    40% {\n",
              "      border-color: transparent;\n",
              "      border-right-color: var(--fill-color);\n",
              "      border-top-color: var(--fill-color);\n",
              "    }\n",
              "    60% {\n",
              "      border-color: transparent;\n",
              "      border-right-color: var(--fill-color);\n",
              "    }\n",
              "    80% {\n",
              "      border-color: transparent;\n",
              "      border-right-color: var(--fill-color);\n",
              "      border-bottom-color: var(--fill-color);\n",
              "    }\n",
              "    90% {\n",
              "      border-color: transparent;\n",
              "      border-bottom-color: var(--fill-color);\n",
              "    }\n",
              "  }\n",
              "</style>\n",
              "\n",
              "      <script>\n",
              "        async function quickchart(key) {\n",
              "          const quickchartButtonEl =\n",
              "            document.querySelector('#' + key + ' button');\n",
              "          quickchartButtonEl.disabled = true;  // To prevent multiple clicks.\n",
              "          quickchartButtonEl.classList.add('colab-df-spinner');\n",
              "          try {\n",
              "            const charts = await google.colab.kernel.invokeFunction(\n",
              "                'suggestCharts', [key], {});\n",
              "          } catch (error) {\n",
              "            console.error('Error during call to suggestCharts:', error);\n",
              "          }\n",
              "          quickchartButtonEl.classList.remove('colab-df-spinner');\n",
              "          quickchartButtonEl.classList.add('colab-df-quickchart-complete');\n",
              "        }\n",
              "        (() => {\n",
              "          let quickchartButtonEl =\n",
              "            document.querySelector('#df-3ca013d5-1182-4a59-bf1e-c7185555d98c button');\n",
              "          quickchartButtonEl.style.display =\n",
              "            google.colab.kernel.accessAllowed ? 'block' : 'none';\n",
              "        })();\n",
              "      </script>\n",
              "    </div>\n",
              "\n",
              "    </div>\n",
              "  </div>\n"
            ],
            "application/vnd.google.colaboratory.intrinsic+json": {
              "type": "dataframe",
              "summary": "{\n  \"name\": \"display(df\",\n  \"rows\": 8,\n  \"fields\": [\n    {\n      \"column\": \"Quantity\",\n      \"properties\": {\n        \"dtype\": \"number\",\n        \"std\": 1636.3260482535327,\n        \"min\": 1.0,\n        \"max\": 4631.0,\n        \"num_unique_values\": 8,\n        \"samples\": [\n          3.023105160872382,\n          3.0,\n          4631.0\n        ],\n        \"semantic_type\": \"\",\n        \"description\": \"\"\n      }\n    },\n    {\n      \"column\": \"Price Per Unit\",\n      \"properties\": {\n        \"dtype\": \"number\",\n        \"std\": 1636.3356262070317,\n        \"min\": 1.0,\n        \"max\": 4631.0,\n        \"num_unique_values\": 8,\n        \"samples\": [\n          2.9588641762038437,\n          3.0,\n          4631.0\n        ],\n        \"semantic_type\": \"\",\n        \"description\": \"\"\n      }\n    },\n    {\n      \"column\": \"Total Spent\",\n      \"properties\": {\n        \"dtype\": \"number\",\n        \"std\": 1634.1041019636411,\n        \"min\": 1.0,\n        \"max\": 4631.0,\n        \"num_unique_values\": 8,\n        \"samples\": [\n          8.853379399697689,\n          8.0,\n          4631.0\n        ],\n        \"semantic_type\": \"\",\n        \"description\": \"\"\n      }\n    }\n  ]\n}"
            }
          },
          "metadata": {}
        },
        {
          "output_type": "stream",
          "name": "stdout",
          "text": [
            "\n",
            "jumlah baris duplikasi setelah dibersihkan:\n"
          ]
        },
        {
          "output_type": "display_data",
          "data": {
            "text/plain": [
              "np.int64(0)"
            ]
          },
          "metadata": {}
        }
      ]
    }
  ]
}