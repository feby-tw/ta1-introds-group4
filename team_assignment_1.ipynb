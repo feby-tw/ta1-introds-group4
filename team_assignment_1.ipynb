{
  "nbformat": 4,
  "nbformat_minor": 0,
  "metadata": {
    "colab": {
      "provenance": []
    },
    "kernelspec": {
      "name": "python3",
      "display_name": "Python 3"
    },
    "language_info": {
      "name": "python"
    }
  },
  "cells": [
    {
      "cell_type": "markdown",
      "source": [
        "# Bagian 1: Pengumpulan Data\n",
        "\n",
        "> ***Esra Frans Sunaryo Purba***"
      ],
      "metadata": {
        "id": "Go8Q2TPmwGlC"
      }
    },
    {
      "cell_type": "code",
      "execution_count": 105,
      "metadata": {
        "id": "Mv9WbzHPh1lo"
      },
      "outputs": [],
      "source": [
        "# Import Libraries\n",
        "import numpy as np\n",
        "import pandas as pd\n",
        "import matplotlib.pyplot as plt\n",
        "import seaborn as sns\n",
        "from sklearn.preprocessing import StandardScaler\n",
        "from sklearn.decomposition import PCA"
      ]
    },
    {
      "cell_type": "code",
      "source": [
        "# Upload file CSV\n",
        "from google.colab import files\n",
        "files.upload()"
      ],
      "metadata": {
        "id": "EzFM3pzewNRl",
        "colab": {
          "base_uri": "https://localhost:8080/",
          "height": 53
        },
        "collapsed": true,
        "outputId": "a63e8743-9a68-4fc4-cdbb-be081689420e"
      },
      "execution_count": 106,
      "outputs": [
        {
          "output_type": "display_data",
          "data": {
            "text/plain": [
              "<IPython.core.display.HTML object>"
            ],
            "text/html": [
              "\n",
              "     <input type=\"file\" id=\"files-af3d2c7b-8a2b-4212-b7a7-f05021568f94\" name=\"files[]\" multiple disabled\n",
              "        style=\"border:none\" />\n",
              "     <output id=\"result-af3d2c7b-8a2b-4212-b7a7-f05021568f94\">\n",
              "      Upload widget is only available when the cell has been executed in the\n",
              "      current browser session. Please rerun this cell to enable.\n",
              "      </output>\n",
              "      <script>// Copyright 2017 Google LLC\n",
              "//\n",
              "// Licensed under the Apache License, Version 2.0 (the \"License\");\n",
              "// you may not use this file except in compliance with the License.\n",
              "// You may obtain a copy of the License at\n",
              "//\n",
              "//      http://www.apache.org/licenses/LICENSE-2.0\n",
              "//\n",
              "// Unless required by applicable law or agreed to in writing, software\n",
              "// distributed under the License is distributed on an \"AS IS\" BASIS,\n",
              "// WITHOUT WARRANTIES OR CONDITIONS OF ANY KIND, either express or implied.\n",
              "// See the License for the specific language governing permissions and\n",
              "// limitations under the License.\n",
              "\n",
              "/**\n",
              " * @fileoverview Helpers for google.colab Python module.\n",
              " */\n",
              "(function(scope) {\n",
              "function span(text, styleAttributes = {}) {\n",
              "  const element = document.createElement('span');\n",
              "  element.textContent = text;\n",
              "  for (const key of Object.keys(styleAttributes)) {\n",
              "    element.style[key] = styleAttributes[key];\n",
              "  }\n",
              "  return element;\n",
              "}\n",
              "\n",
              "// Max number of bytes which will be uploaded at a time.\n",
              "const MAX_PAYLOAD_SIZE = 100 * 1024;\n",
              "\n",
              "function _uploadFiles(inputId, outputId) {\n",
              "  const steps = uploadFilesStep(inputId, outputId);\n",
              "  const outputElement = document.getElementById(outputId);\n",
              "  // Cache steps on the outputElement to make it available for the next call\n",
              "  // to uploadFilesContinue from Python.\n",
              "  outputElement.steps = steps;\n",
              "\n",
              "  return _uploadFilesContinue(outputId);\n",
              "}\n",
              "\n",
              "// This is roughly an async generator (not supported in the browser yet),\n",
              "// where there are multiple asynchronous steps and the Python side is going\n",
              "// to poll for completion of each step.\n",
              "// This uses a Promise to block the python side on completion of each step,\n",
              "// then passes the result of the previous step as the input to the next step.\n",
              "function _uploadFilesContinue(outputId) {\n",
              "  const outputElement = document.getElementById(outputId);\n",
              "  const steps = outputElement.steps;\n",
              "\n",
              "  const next = steps.next(outputElement.lastPromiseValue);\n",
              "  return Promise.resolve(next.value.promise).then((value) => {\n",
              "    // Cache the last promise value to make it available to the next\n",
              "    // step of the generator.\n",
              "    outputElement.lastPromiseValue = value;\n",
              "    return next.value.response;\n",
              "  });\n",
              "}\n",
              "\n",
              "/**\n",
              " * Generator function which is called between each async step of the upload\n",
              " * process.\n",
              " * @param {string} inputId Element ID of the input file picker element.\n",
              " * @param {string} outputId Element ID of the output display.\n",
              " * @return {!Iterable<!Object>} Iterable of next steps.\n",
              " */\n",
              "function* uploadFilesStep(inputId, outputId) {\n",
              "  const inputElement = document.getElementById(inputId);\n",
              "  inputElement.disabled = false;\n",
              "\n",
              "  const outputElement = document.getElementById(outputId);\n",
              "  outputElement.innerHTML = '';\n",
              "\n",
              "  const pickedPromise = new Promise((resolve) => {\n",
              "    inputElement.addEventListener('change', (e) => {\n",
              "      resolve(e.target.files);\n",
              "    });\n",
              "  });\n",
              "\n",
              "  const cancel = document.createElement('button');\n",
              "  inputElement.parentElement.appendChild(cancel);\n",
              "  cancel.textContent = 'Cancel upload';\n",
              "  const cancelPromise = new Promise((resolve) => {\n",
              "    cancel.onclick = () => {\n",
              "      resolve(null);\n",
              "    };\n",
              "  });\n",
              "\n",
              "  // Wait for the user to pick the files.\n",
              "  const files = yield {\n",
              "    promise: Promise.race([pickedPromise, cancelPromise]),\n",
              "    response: {\n",
              "      action: 'starting',\n",
              "    }\n",
              "  };\n",
              "\n",
              "  cancel.remove();\n",
              "\n",
              "  // Disable the input element since further picks are not allowed.\n",
              "  inputElement.disabled = true;\n",
              "\n",
              "  if (!files) {\n",
              "    return {\n",
              "      response: {\n",
              "        action: 'complete',\n",
              "      }\n",
              "    };\n",
              "  }\n",
              "\n",
              "  for (const file of files) {\n",
              "    const li = document.createElement('li');\n",
              "    li.append(span(file.name, {fontWeight: 'bold'}));\n",
              "    li.append(span(\n",
              "        `(${file.type || 'n/a'}) - ${file.size} bytes, ` +\n",
              "        `last modified: ${\n",
              "            file.lastModifiedDate ? file.lastModifiedDate.toLocaleDateString() :\n",
              "                                    'n/a'} - `));\n",
              "    const percent = span('0% done');\n",
              "    li.appendChild(percent);\n",
              "\n",
              "    outputElement.appendChild(li);\n",
              "\n",
              "    const fileDataPromise = new Promise((resolve) => {\n",
              "      const reader = new FileReader();\n",
              "      reader.onload = (e) => {\n",
              "        resolve(e.target.result);\n",
              "      };\n",
              "      reader.readAsArrayBuffer(file);\n",
              "    });\n",
              "    // Wait for the data to be ready.\n",
              "    let fileData = yield {\n",
              "      promise: fileDataPromise,\n",
              "      response: {\n",
              "        action: 'continue',\n",
              "      }\n",
              "    };\n",
              "\n",
              "    // Use a chunked sending to avoid message size limits. See b/62115660.\n",
              "    let position = 0;\n",
              "    do {\n",
              "      const length = Math.min(fileData.byteLength - position, MAX_PAYLOAD_SIZE);\n",
              "      const chunk = new Uint8Array(fileData, position, length);\n",
              "      position += length;\n",
              "\n",
              "      const base64 = btoa(String.fromCharCode.apply(null, chunk));\n",
              "      yield {\n",
              "        response: {\n",
              "          action: 'append',\n",
              "          file: file.name,\n",
              "          data: base64,\n",
              "        },\n",
              "      };\n",
              "\n",
              "      let percentDone = fileData.byteLength === 0 ?\n",
              "          100 :\n",
              "          Math.round((position / fileData.byteLength) * 100);\n",
              "      percent.textContent = `${percentDone}% done`;\n",
              "\n",
              "    } while (position < fileData.byteLength);\n",
              "  }\n",
              "\n",
              "  // All done.\n",
              "  yield {\n",
              "    response: {\n",
              "      action: 'complete',\n",
              "    }\n",
              "  };\n",
              "}\n",
              "\n",
              "scope.google = scope.google || {};\n",
              "scope.google.colab = scope.google.colab || {};\n",
              "scope.google.colab._files = {\n",
              "  _uploadFiles,\n",
              "  _uploadFilesContinue,\n",
              "};\n",
              "})(self);\n",
              "</script> "
            ]
          },
          "metadata": {}
        },
        {
          "output_type": "execute_result",
          "data": {
            "text/plain": [
              "{}"
            ]
          },
          "metadata": {},
          "execution_count": 106
        }
      ]
    },
    {
      "cell_type": "code",
      "source": [
        "# Load Dataset\n",
        "df = pd.read_csv('dirty_cafe_sales.csv')"
      ],
      "metadata": {
        "id": "QqT4t-02h-MI"
      },
      "execution_count": 118,
      "outputs": []
    },
    {
      "cell_type": "markdown",
      "source": [
        "## Eksplorasi Data\n",
        "\n",
        "> ***Mochammad Chafiedz Afrilian***"
      ],
      "metadata": {
        "id": "VFAyPXvkytTE"
      }
    },
    {
      "cell_type": "code",
      "source": [
        "# struktur data\n",
        "print(\"Dimensi dataset:\", df.shape)\n",
        "print(\"\\nTipe data setiap kolom:\")\n",
        "print(df.dtypes)\n",
        "\n",
        "print(\"\\nInfo dataset:\")\n",
        "print(df.info())\n",
        "print(df.head())\n"
      ],
      "metadata": {
        "colab": {
          "base_uri": "https://localhost:8080/"
        },
        "id": "N7fko2_5a4Vw",
        "outputId": "66bdffca-3130-4855-8fac-8e34c1b85157"
      },
      "execution_count": 119,
      "outputs": [
        {
          "output_type": "stream",
          "name": "stdout",
          "text": [
            "Dimensi dataset: (10000, 8)\n",
            "\n",
            "Tipe data setiap kolom:\n",
            "Transaction ID      object\n",
            "Item                object\n",
            "Quantity            object\n",
            "Price Per Unit      object\n",
            "Total Spent         object\n",
            "Payment Method      object\n",
            "Location            object\n",
            "Transaction Date    object\n",
            "dtype: object\n",
            "\n",
            "Info dataset:\n",
            "<class 'pandas.core.frame.DataFrame'>\n",
            "RangeIndex: 10000 entries, 0 to 9999\n",
            "Data columns (total 8 columns):\n",
            " #   Column            Non-Null Count  Dtype \n",
            "---  ------            --------------  ----- \n",
            " 0   Transaction ID    10000 non-null  object\n",
            " 1   Item              9667 non-null   object\n",
            " 2   Quantity          9862 non-null   object\n",
            " 3   Price Per Unit    9821 non-null   object\n",
            " 4   Total Spent       9827 non-null   object\n",
            " 5   Payment Method    7421 non-null   object\n",
            " 6   Location          6735 non-null   object\n",
            " 7   Transaction Date  9841 non-null   object\n",
            "dtypes: object(8)\n",
            "memory usage: 625.1+ KB\n",
            "None\n",
            "  Transaction ID    Item Quantity Price Per Unit Total Spent  Payment Method  \\\n",
            "0    TXN_1961373  Coffee        2            2.0         4.0     Credit Card   \n",
            "1    TXN_4977031    Cake        4            3.0        12.0            Cash   \n",
            "2    TXN_4271903  Cookie        4            1.0       ERROR     Credit Card   \n",
            "3    TXN_7034554   Salad        2            5.0        10.0         UNKNOWN   \n",
            "4    TXN_3160411  Coffee        2            2.0         4.0  Digital Wallet   \n",
            "\n",
            "   Location Transaction Date  \n",
            "0  Takeaway       2023-09-08  \n",
            "1  In-store       2023-05-16  \n",
            "2  In-store       2023-07-19  \n",
            "3   UNKNOWN       2023-04-27  \n",
            "4  In-store       2023-06-11  \n"
          ]
        }
      ]
    },
    {
      "cell_type": "code",
      "source": [
        "# statistik deskriptif\n",
        "print(\"\\nStatistik numerik:\")\n",
        "print(df.describe())"
      ],
      "metadata": {
        "colab": {
          "base_uri": "https://localhost:8080/"
        },
        "id": "REszBNnPy48N",
        "outputId": "91fe5716-d4b3-4542-ae17-df347f1e666b"
      },
      "execution_count": 120,
      "outputs": [
        {
          "output_type": "stream",
          "name": "stdout",
          "text": [
            "\n",
            "Statistik numerik:\n",
            "       Transaction ID   Item Quantity Price Per Unit Total Spent  \\\n",
            "count           10000   9667     9862           9821        9827   \n",
            "unique          10000     10        7              8          19   \n",
            "top       TXN_9226047  Juice        5            3.0         6.0   \n",
            "freq                1   1171     2013           2429         979   \n",
            "\n",
            "        Payment Method  Location Transaction Date  \n",
            "count             7421      6735             9841  \n",
            "unique               5         4              367  \n",
            "top     Digital Wallet  Takeaway          UNKNOWN  \n",
            "freq              2291      3022              159  \n"
          ]
        }
      ]
    },
    {
      "cell_type": "code",
      "source": [
        "# cek missing value\n",
        "print(\"\\nJumlah missing values per kolom:\")\n",
        "print(df.isnull().sum())"
      ],
      "metadata": {
        "colab": {
          "base_uri": "https://localhost:8080/"
        },
        "id": "wZODLY1Ty7Xm",
        "outputId": "1049e4b2-f65d-423d-cfa8-8b0015d09708"
      },
      "execution_count": 121,
      "outputs": [
        {
          "output_type": "stream",
          "name": "stdout",
          "text": [
            "\n",
            "Jumlah missing values per kolom:\n",
            "Transaction ID         0\n",
            "Item                 333\n",
            "Quantity             138\n",
            "Price Per Unit       179\n",
            "Total Spent          173\n",
            "Payment Method      2579\n",
            "Location            3265\n",
            "Transaction Date     159\n",
            "dtype: int64\n"
          ]
        }
      ]
    },
    {
      "cell_type": "code",
      "source": [
        "# cek duplicate data\n",
        "print(\"Jumlah data duplikat:\", df.duplicated().sum())"
      ],
      "metadata": {
        "colab": {
          "base_uri": "https://localhost:8080/"
        },
        "id": "xIApXDn-y9GV",
        "outputId": "74f8753c-3a2b-44e2-baaa-1eec533062ea"
      },
      "execution_count": 122,
      "outputs": [
        {
          "output_type": "stream",
          "name": "stdout",
          "text": [
            "Jumlah data duplikat: 0\n"
          ]
        }
      ]
    },
    {
      "cell_type": "markdown",
      "source": [
        "## Visualisasi Data Missing Values Sebelum Cleaning\n",
        "> ***Feby Tri Wulandari***"
      ],
      "metadata": {
        "id": "R8A0ngAU01Ze"
      }
    },
    {
      "cell_type": "code",
      "source": [
        "# Visualisasi missing values\n",
        "plt.figure(figsize=(10,7))\n",
        "plt.imshow(df.isnull(), cmap='YlGnBu', interpolation='none', aspect='auto')\n",
        "plt.colorbar(label='Missing Value')\n",
        "plt.title('Missing Values Heatmap', fontsize=15)\n",
        "plt.xticks(ticks=np.arange(len(df.columns)), labels=df.columns, rotation=45, ha='right')\n",
        "plt.ylabel('Index')\n",
        "plt.show()"
      ],
      "metadata": {
        "colab": {
          "base_uri": "https://localhost:8080/",
          "height": 632
        },
        "id": "oYadzC1j1FPr",
        "outputId": "558b7912-e77e-4b7e-d9f7-83baa9db579b"
      },
      "execution_count": 123,
      "outputs": [
        {
          "output_type": "display_data",
          "data": {
            "text/plain": [
              "<Figure size 1000x700 with 2 Axes>"
            ],
            "image/png": "[encoded data removed]"
          },
          "metadata": {}
        }
      ]
    },
    {
      "cell_type": "markdown",
      "source": [
        "# Bagian 2: Pembersihan Data"
      ],
      "metadata": {
        "id": "qBMikRxbzN_L"
      }
    },
    {
      "cell_type": "markdown",
      "source": [
        "## Konversi Tipe Data\n",
        "> ***Nadiyah Shabrina***"
      ],
      "metadata": {
        "id": "u1c_IZYL3n5c"
      }
    },
    {
      "cell_type": "code",
      "source": [
        "# Ubah kolom ke tipe data numerik\n",
        "df['Quantity'] = pd.to_numeric(df['Quantity'], errors='coerce')\n",
        "df['Price Per Unit'] = pd.to_numeric(df['Price Per Unit'], errors='coerce')\n",
        "df['Total Spent'] = pd.to_numeric(df['Total Spent'], errors='coerce')\n",
        "\n",
        "# Ubah kolom tanggal transaksi menjadi datetime, tidak menggunakkan median\n",
        "df['Transaction Date'] = pd.to_datetime(df['Transaction Date'], errors='coerce')\n",
        "\n",
        "print('Tipe data setiap kolom setelah konversi:')\n",
        "print(df.dtypes)"
      ],
      "metadata": {
        "colab": {
          "base_uri": "https://localhost:8080/"
        },
        "id": "wk-iV-A43u8k",
        "outputId": "8ffe39c5-bff5-4236-db4b-af9fd7c44c5a"
      },
      "execution_count": 124,
      "outputs": [
        {
          "output_type": "stream",
          "name": "stdout",
          "text": [
            "Tipe data setiap kolom setelah konversi:\n",
            "Transaction ID              object\n",
            "Item                        object\n",
            "Quantity                   float64\n",
            "Price Per Unit             float64\n",
            "Total Spent                float64\n",
            "Payment Method              object\n",
            "Location                    object\n",
            "Transaction Date    datetime64[ns]\n",
            "dtype: object\n"
          ]
        }
      ]
    },
    {
      "cell_type": "markdown",
      "source": [
        "## Penanganan Missing Values\n",
        "\n",
        "Menghapus atau mengisi missing values dengan teknik yang sesuai (mean, median, interpolasi, atau penghapusan).\n",
        "\n",
        "> ***Nadiyah Shabrina***"
      ],
      "metadata": {
        "id": "D9vei_HJzQEG"
      }
    },
    {
      "cell_type": "code",
      "source": [
        "# Data missing value sebelum dilakukan pembersihan data\n",
        "print('Total missing values: ',df.isnull().sum().sum())\n",
        "print(df.isna().sum())"
      ],
      "metadata": {
        "colab": {
          "base_uri": "https://localhost:8080/"
        },
        "id": "i83KOKsrN4iG",
        "outputId": "535a6378-e233-4fb2-e4ad-4599dabfd673"
      },
      "execution_count": 125,
      "outputs": [
        {
          "output_type": "stream",
          "name": "stdout",
          "text": [
            "Total missing values:  8151\n",
            "Transaction ID         0\n",
            "Item                 333\n",
            "Quantity             479\n",
            "Price Per Unit       533\n",
            "Total Spent          502\n",
            "Payment Method      2579\n",
            "Location            3265\n",
            "Transaction Date     460\n",
            "dtype: int64\n"
          ]
        }
      ]
    },
    {
      "cell_type": "code",
      "source": [
        "# Mengisi nilai numerik yang hilang/kosong\n",
        "for col in ['Quantity', 'Price Per Unit', 'Total Spent']:\n",
        "    df[col].fillna(df[col].median(), inplace=True)\n",
        "\n",
        "# Hapus baris dengan nilai yang hilang di kolom lainnya\n",
        "df.dropna(subset=['Item', 'Payment Method', 'Location'], inplace=True)\n",
        "# Menghapus baris yang memiliki nilai yang hilang di kolom 'Transaction Date'\n",
        "df.dropna(subset=['Transaction Date'], inplace=True)\n",
        "\n",
        "# Check hasil akhir\n",
        "print(df.isna().sum())"
      ],
      "metadata": {
        "colab": {
          "base_uri": "https://localhost:8080/"
        },
        "id": "FdaCd3O9bbMQ",
        "outputId": "989c5254-acdc-4afb-8686-da1fdda875af"
      },
      "execution_count": 126,
      "outputs": [
        {
          "output_type": "stream",
          "name": "stdout",
          "text": [
            "Transaction ID      0\n",
            "Item                0\n",
            "Quantity            0\n",
            "Price Per Unit      0\n",
            "Total Spent         0\n",
            "Payment Method      0\n",
            "Location            0\n",
            "Transaction Date    0\n",
            "dtype: int64\n"
          ]
        },
        {
          "output_type": "stream",
          "name": "stderr",
          "text": [
            "/tmp/ipython-input-3497762472.py:3: FutureWarning: A value is trying to be set on a copy of a DataFrame or Series through chained assignment using an inplace method.\n",
            "The behavior will change in pandas 3.0. This inplace method will never work because the intermediate object on which we are setting values always behaves as a copy.\n",
            "\n",
            "For example, when doing 'df[col].method(value, inplace=True)', try using 'df.method({col: value}, inplace=True)' or df[col] = df[col].method(value) instead, to perform the operation inplace on the original object.\n",
            "\n",
            "\n",
            "  df[col].fillna(df[col].median(), inplace=True)\n"
          ]
        }
      ]
    },
    {
      "cell_type": "markdown",
      "source": [
        "## Visualisasi Outliers Sebelum Capping\n",
        "> ***Feby Tri Wulandari***"
      ],
      "metadata": {
        "id": "ZTXzVRFo2w9U"
      }
    },
    {
      "cell_type": "code",
      "source": [
        "# Distribusi Data Numerik\n",
        "numerical_cols = ['Quantity', 'Price Per Unit', 'Total Spent']\n",
        "\n",
        "plt.figure(figsize=(7,5))\n",
        "sns.boxplot(\n",
        "    data=df[numerical_cols],\n",
        "    palette={'Quantity':'#ffffcc', 'Price Per Unit':'#a1dab4', 'Total Spent':'#2c7fb8'},\n",
        "    linewidth=1.2\n",
        ")\n",
        "plt.title(\"Boxplot Sebelum Capping\", fontsize=15)\n",
        "plt.show()"
      ],
      "metadata": {
        "colab": {
          "base_uri": "https://localhost:8080/",
          "height": 470
        },
        "id": "YsqKVbAw2ako",
        "outputId": "4ea9f680-ee88-4148-bd0d-351ce35b7902"
      },
      "execution_count": 127,
      "outputs": [
        {
          "output_type": "display_data",
          "data": {
            "text/plain": [
              "<Figure size 700x500 with 1 Axes>"
            ],
            "image/png": "[encoded data removed]"
          },
          "metadata": {}
        }
      ]
    },
    {
      "cell_type": "markdown",
      "source": [
        "### Penanganan Outliers\n",
        "\n",
        "Mengidentifikasi outliers menggunakan metode Boxplot/Z-score/IQR dan menangani outliers yang tidak relevan.\n",
        "\n",
        "> ***Nadiyah Shabrina***"
      ],
      "metadata": {
        "id": "CLTUnEEM3Xkk"
      }
    },
    {
      "cell_type": "code",
      "source": [
        "# Data outliers sebelum dilakukan pembersihan data\n",
        "numerical_cols = ['Quantity', 'Price Per Unit', 'Total Spent']\n",
        "\n",
        "for col in numerical_cols:\n",
        "    Q1 = df[col].quantile(0.25)\n",
        "    Q3 = df[col].quantile(0.75)\n",
        "    IQR = Q3 - Q1\n",
        "\n",
        "    lower_bound = Q1 - 1.5 * IQR\n",
        "    upper_bound = Q3 + 1.5 * IQR\n",
        "\n",
        "outliers = df[(df[col] < lower_bound) | (df[col] > upper_bound)]\n",
        "print(f\"{col}: {len(outliers)} outliers\")"
      ],
      "metadata": {
        "colab": {
          "base_uri": "https://localhost:8080/"
        },
        "id": "3cpsWjMzPZ3-",
        "outputId": "0bfcfb9f-774f-4457-9354-a5f3e3fc40dd"
      },
      "execution_count": 128,
      "outputs": [
        {
          "output_type": "stream",
          "name": "stdout",
          "text": [
            "Total Spent: 127 outliers\n"
          ]
        }
      ]
    },
    {
      "cell_type": "code",
      "source": [
        "# Menggunakan IQR untuk menghilangkan outlier\n",
        "numerical_cols = ['Quantity', 'Price Per Unit', 'Total Spent']\n",
        "\n",
        "for col in numerical_cols:\n",
        "    Q1 = df[col].quantile(0.25)\n",
        "    Q3 = df[col].quantile(0.75)\n",
        "    IQR = Q3 - Q1\n",
        "\n",
        "    lower_bound = Q1 - 1.5 * IQR\n",
        "    upper_bound = Q3 + 1.5 * IQR\n",
        "\n",
        "    df[col] = np.where(df[col] < lower_bound, lower_bound, df[col])\n",
        "    df[col] = np.where(df[col] > upper_bound, upper_bound, df[col])\n",
        "\n",
        "print(\"Outlier diolah dengan metode pembatasan capping.\")\n",
        "print(f\"Capping applied pada kolom {col}: min={df[col].min()}, max={df[col].max()}\")"
      ],
      "metadata": {
        "colab": {
          "base_uri": "https://localhost:8080/"
        },
        "id": "_vgxIvIWb043",
        "outputId": "fcad7a3c-4b09-4971-c634-3d77e1204713"
      },
      "execution_count": 129,
      "outputs": [
        {
          "output_type": "stream",
          "name": "stdout",
          "text": [
            "Outlier diolah dengan metode pembatasan capping.\n",
            "Capping applied pada kolom Total Spent: min=1.0, max=24.0\n"
          ]
        }
      ]
    },
    {
      "cell_type": "markdown",
      "source": [
        "## Visualisasi Outliers Setelah Capping\n",
        "> ***Feby Tri Wulandari***"
      ],
      "metadata": {
        "id": "jh8F9drn4nre"
      }
    },
    {
      "cell_type": "code",
      "source": [
        "# Distribusi Data Numerik\n",
        "plt.figure(figsize=(7,5))\n",
        "sns.boxplot(\n",
        "    data=df[numerical_cols],\n",
        "    palette={'Quantity':'#ffffcc', 'Price Per Unit':'#a1dab4', 'Total Spent':'#2c7fb8'},\n",
        "    linewidth=1.2\n",
        ")\n",
        "plt.title(\"Boxplot Sebelum Capping (Raw Data)\\n\", fontsize=15)\n",
        "plt.show()"
      ],
      "metadata": {
        "colab": {
          "base_uri": "https://localhost:8080/",
          "height": 493
        },
        "id": "yMeYSSmU2VtJ",
        "outputId": "49f1e533-7ca3-401b-cba3-6abdf58fe307"
      },
      "execution_count": 130,
      "outputs": [
        {
          "output_type": "display_data",
          "data": {
            "text/plain": [
              "<Figure size 700x500 with 1 Axes>"
            ],
            "image/png": "[encoded data removed]"
          },
          "metadata": {}
        }
      ]
    },
    {
      "cell_type": "markdown",
      "source": [
        "### Penanganan Redundansi Data (Duplikasi)\n",
        "\n",
        "Menghapus duplikasi data dan memastikan data tetap konsisten.\n",
        "\n",
        "> ***Nadiyah Shabrina***"
      ],
      "metadata": {
        "id": "wPOpKSe0495y"
      }
    },
    {
      "cell_type": "code",
      "source": [
        "print(\"Jumlah Jumlah baris duplikat sebelum dihapus:\", df.duplicated().sum())"
      ],
      "metadata": {
        "colab": {
          "base_uri": "https://localhost:8080/"
        },
        "id": "tPCZsCLTb6A8",
        "outputId": "3174b2a3-3357-4fc4-ec34-10255f68de99"
      },
      "execution_count": 131,
      "outputs": [
        {
          "output_type": "stream",
          "name": "stdout",
          "text": [
            "Jumlah Jumlah baris duplikat sebelum dihapus: 0\n"
          ]
        }
      ]
    },
    {
      "cell_type": "code",
      "source": [
        "df.drop_duplicates(inplace=True)\n",
        "print(\"Jumlah baris duplikat setelah dihapus:\", df.duplicated().sum())"
      ],
      "metadata": {
        "colab": {
          "base_uri": "https://localhost:8080/"
        },
        "id": "5jnXIf42b_UJ",
        "outputId": "01fc74d9-ed3d-4296-b59b-fef693bf24d1"
      },
      "execution_count": 132,
      "outputs": [
        {
          "output_type": "stream",
          "name": "stdout",
          "text": [
            "Jumlah baris duplikat setelah dihapus: 0\n"
          ]
        }
      ]
    },
    {
      "cell_type": "markdown",
      "source": [
        "## Pengecekan terakhir\n",
        "> ***Nadiyah Shabrina***"
      ],
      "metadata": {
        "id": "n8UGKpXqcCPz"
      }
    },
    {
      "cell_type": "code",
      "source": [
        "print(\"Missing values setelah dibersihkan:\")\n",
        "display(df.isna().sum())\n",
        "\n",
        "print(\"\\nValue ranges setelah outlier diolah:\")\n",
        "display(df[['Quantity', 'Price Per Unit', 'Total Spent']].describe())\n",
        "\n",
        "print(\"\\njumlah baris duplikasi setelah dibersihkan:\")\n",
        "display(df.duplicated().sum())"
      ],
      "metadata": {
        "colab": {
          "base_uri": "https://localhost:8080/",
          "height": 722
        },
        "id": "wxbrEzcPcEoE",
        "outputId": "c1e28deb-8016-48ae-dd77-f0e6df1f6615"
      },
      "execution_count": 133,
      "outputs": [
        {
          "output_type": "stream",
          "name": "stdout",
          "text": [
            "Missing values setelah dibersihkan:\n"
          ]
        },
        {
          "output_type": "display_data",
          "data": {
            "text/plain": [
              "Transaction ID      0\n",
              "Item                0\n",
              "Quantity            0\n",
              "Price Per Unit      0\n",
              "Total Spent         0\n",
              "Payment Method      0\n",
              "Location            0\n",
              "Transaction Date    0\n",
              "dtype: int64"
            ],
            "text/html": [
              "<div>\n",
              "<style scoped>\n",
              "    .dataframe tbody tr th:only-of-type {\n",
              "        vertical-align: middle;\n",
              "    }\n",
              "\n",
              "    .dataframe tbody tr th {\n",
              "        vertical-align: top;\n",
              "    }\n",
              "\n",
              "    .dataframe thead th {\n",
              "        text-align: right;\n",
              "    }\n",
              "</style>\n",
              "<table border=\"1\" class=\"dataframe\">\n",
              "  <thead>\n",
              "    <tr style=\"text-align: right;\">\n",
              "      <th></th>\n",
              "      <th>0</th>\n",
              "    </tr>\n",
              "  </thead>\n",
              "  <tbody>\n",
              "    <tr>\n",
              "      <th>Transaction ID</th>\n",
              "      <td>0</td>\n",
              "    </tr>\n",
              "    <tr>\n",
              "      <th>Item</th>\n",
              "      <td>0</td>\n",
              "    </tr>\n",
              "    <tr>\n",
              "      <th>Quantity</th>\n",
              "      <td>0</td>\n",
              "    </tr>\n",
              "    <tr>\n",
              "      <th>Price Per Unit</th>\n",
              "      <td>0</td>\n",
              "    </tr>\n",
              "    <tr>\n",
              "      <th>Total Spent</th>\n",
              "      <td>0</td>\n",
              "    </tr>\n",
              "    <tr>\n",
              "      <th>Payment Method</th>\n",
              "      <td>0</td>\n",
              "    </tr>\n",
              "    <tr>\n",
              "      <th>Location</th>\n",
              "      <td>0</td>\n",
              "    </tr>\n",
              "    <tr>\n",
              "      <th>Transaction Date</th>\n",
              "      <td>0</td>\n",
              "    </tr>\n",
              "  </tbody>\n",
              "</table>\n",
              "</div><br><label><b>dtype:</b> int64</label>"
            ]
          },
          "metadata": {}
        },
        {
          "output_type": "stream",
          "name": "stdout",
          "text": [
            "\n",
            "Value ranges setelah outlier diolah:\n"
          ]
        },
        {
          "output_type": "display_data",
          "data": {
            "text/plain": [
              "          Quantity  Price Per Unit  Total Spent\n",
              "count  4631.000000     4631.000000  4631.000000\n",
              "mean      3.023105        2.958864     8.853379\n",
              "std       1.384621        1.259514     5.825142\n",
              "min       1.000000        1.000000     1.000000\n",
              "25%       2.000000        2.000000     4.000000\n",
              "50%       3.000000        3.000000     8.000000\n",
              "75%       4.000000        4.000000    12.000000\n",
              "max       5.000000        5.000000    24.000000"
            ],
            "text/html": [
              "\n",
              "  <div id=\"df-2d1dcc92-091f-4792-a142-a211754eb77d\" class=\"colab-df-container\">\n",
              "    <div>\n",
              "<style scoped>\n",
              "    .dataframe tbody tr th:only-of-type {\n",
              "        vertical-align: middle;\n",
              "    }\n",
              "\n",
              "    .dataframe tbody tr th {\n",
              "        vertical-align: top;\n",
              "    }\n",
              "\n",
              "    .dataframe thead th {\n",
              "        text-align: right;\n",
              "    }\n",
              "</style>\n",
              "<table border=\"1\" class=\"dataframe\">\n",
              "  <thead>\n",
              "    <tr style=\"text-align: right;\">\n",
              "      <th></th>\n",
              "      <th>Quantity</th>\n",
              "      <th>Price Per Unit</th>\n",
              "      <th>Total Spent</th>\n",
              "    </tr>\n",
              "  </thead>\n",
              "  <tbody>\n",
              "    <tr>\n",
              "      <th>count</th>\n",
              "      <td>4631.000000</td>\n",
              "      <td>4631.000000</td>\n",
              "      <td>4631.000000</td>\n",
              "    </tr>\n",
              "    <tr>\n",
              "      <th>mean</th>\n",
              "      <td>3.023105</td>\n",
              "      <td>2.958864</td>\n",
              "      <td>8.853379</td>\n",
              "    </tr>\n",
              "    <tr>\n",
              "      <th>std</th>\n",
              "      <td>1.384621</td>\n",
              "      <td>1.259514</td>\n",
              "      <td>5.825142</td>\n",
              "    </tr>\n",
              "    <tr>\n",
              "      <th>min</th>\n",
              "      <td>1.000000</td>\n",
              "      <td>1.000000</td>\n",
              "      <td>1.000000</td>\n",
              "    </tr>\n",
              "    <tr>\n",
              "      <th>25%</th>\n",
              "      <td>2.000000</td>\n",
              "      <td>2.000000</td>\n",
              "      <td>4.000000</td>\n",
              "    </tr>\n",
              "    <tr>\n",
              "      <th>50%</th>\n",
              "      <td>3.000000</td>\n",
              "      <td>3.000000</td>\n",
              "      <td>8.000000</td>\n",
              "    </tr>\n",
              "    <tr>\n",
              "      <th>75%</th>\n",
              "      <td>4.000000</td>\n",
              "      <td>4.000000</td>\n",
              "      <td>12.000000</td>\n",
              "    </tr>\n",
              "    <tr>\n",
              "      <th>max</th>\n",
              "      <td>5.000000</td>\n",
              "      <td>5.000000</td>\n",
              "      <td>24.000000</td>\n",
              "    </tr>\n",
              "  </tbody>\n",
              "</table>\n",
              "</div>\n",
              "    <div class=\"colab-df-buttons\">\n",
              "\n",
              "  <div class=\"colab-df-container\">\n",
              "    <button class=\"colab-df-convert\" onclick=\"convertToInteractive('df-2d1dcc92-091f-4792-a142-a211754eb77d')\"\n",
              "            title=\"Convert this dataframe to an interactive table.\"\n",
              "            style=\"display:none;\">\n",
              "\n",
              "  <svg xmlns=\"http://www.w3.org/2000/svg\" height=\"24px\" viewBox=\"0 -960 960 960\">\n",
              "    <path d=\"M120-120v-720h720v720H120Zm60-500h600v-160H180v160Zm220 220h160v-160H400v160Zm0 220h160v-160H400v160ZM180-400h160v-160H180v160Zm440 0h160v-160H620v160ZM180-180h160v-160H180v160Zm440 0h160v-160H620v160Z\"/>\n",
              "  </svg>\n",
              "    </button>\n",
              "\n",
              "  <style>\n",
              "    .colab-df-container {\n",
              "      display:flex;\n",
              "      gap: 12px;\n",
              "    }\n",
              "\n",
              "    .colab-df-convert {\n",
              "      background-color: #E8F0FE;\n",
              "      border: none;\n",
              "      border-radius: 50%;\n",
              "      cursor: pointer;\n",
              "      display: none;\n",
              "      fill: #1967D2;\n",
              "      height: 32px;\n",
              "      padding: 0 0 0 0;\n",
              "      width: 32px;\n",
              "    }\n",
              "\n",
              "    .colab-df-convert:hover {\n",
              "      background-color: #E2EBFA;\n",
              "      box-shadow: 0px 1px 2px rgba(60, 64, 67, 0.3), 0px 1px 3px 1px rgba(60, 64, 67, 0.15);\n",
              "      fill: #174EA6;\n",
              "    }\n",
              "\n",
              "    .colab-df-buttons div {\n",
              "      margin-bottom: 4px;\n",
              "    }\n",
              "\n",
              "    [theme=dark] .colab-df-convert {\n",
              "      background-color: #3B4455;\n",
              "      fill: #D2E3FC;\n",
              "    }\n",
              "\n",
              "    [theme=dark] .colab-df-convert:hover {\n",
              "      background-color: #434B5C;\n",
              "      box-shadow: 0px 1px 3px 1px rgba(0, 0, 0, 0.15);\n",
              "      filter: drop-shadow(0px 1px 2px rgba(0, 0, 0, 0.3));\n",
              "      fill: #FFFFFF;\n",
              "    }\n",
              "  </style>\n",
              "\n",
              "    <script>\n",
              "      const buttonEl =\n",
              "        document.querySelector('#df-2d1dcc92-091f-4792-a142-a211754eb77d button.colab-df-convert');\n",
              "      buttonEl.style.display =\n",
              "        google.colab.kernel.accessAllowed ? 'block' : 'none';\n",
              "\n",
              "      async function convertToInteractive(key) {\n",
              "        const element = document.querySelector('#df-2d1dcc92-091f-4792-a142-a211754eb77d');\n",
              "        const dataTable =\n",
              "          await google.colab.kernel.invokeFunction('convertToInteractive',\n",
              "                                                    [key], {});\n",
              "        if (!dataTable) return;\n",
              "\n",
              "        const docLinkHtml = 'Like what you see? Visit the ' +\n",
              "          '<a target=\"_blank\" href=https://colab.research.google.com/notebooks/data_table.ipynb>data table notebook</a>'\n",
              "          + ' to learn more about interactive tables.';\n",
              "        element.innerHTML = '';\n",
              "        dataTable['output_type'] = 'display_data';\n",
              "        await google.colab.output.renderOutput(dataTable, element);\n",
              "        const docLink = document.createElement('div');\n",
              "        docLink.innerHTML = docLinkHtml;\n",
              "        element.appendChild(docLink);\n",
              "      }\n",
              "    </script>\n",
              "  </div>\n",
              "\n",
              "\n",
              "    <div id=\"df-d0bc77b0-f9c2-44c9-8599-91e53e9e12c2\">\n",
              "      <button class=\"colab-df-quickchart\" onclick=\"quickchart('df-d0bc77b0-f9c2-44c9-8599-91e53e9e12c2')\"\n",
              "                title=\"Suggest charts\"\n",
              "                style=\"display:none;\">\n",
              "\n",
              "<svg xmlns=\"http://www.w3.org/2000/svg\" height=\"24px\"viewBox=\"0 0 24 24\"\n",
              "     width=\"24px\">\n",
              "    <g>\n",
              "        <path d=\"M19 3H5c-1.1 0-2 .9-2 2v14c0 1.1.9 2 2 2h14c1.1 0 2-.9 2-2V5c0-1.1-.9-2-2-2zM9 17H7v-7h2v7zm4 0h-2V7h2v10zm4 0h-2v-4h2v4z\"/>\n",
              "    </g>\n",
              "</svg>\n",
              "      </button>\n",
              "\n",
              "<style>\n",
              "  .colab-df-quickchart {\n",
              "      --bg-color: #E8F0FE;\n",
              "      --fill-color: #1967D2;\n",
              "      --hover-bg-color: #E2EBFA;\n",
              "      --hover-fill-color: #174EA6;\n",
              "      --disabled-fill-color: #AAA;\n",
              "      --disabled-bg-color: #DDD;\n",
              "  }\n",
              "\n",
              "  [theme=dark] .colab-df-quickchart {\n",
              "      --bg-color: #3B4455;\n",
              "      --fill-color: #D2E3FC;\n",
              "      --hover-bg-color: #434B5C;\n",
              "      --hover-fill-color: #FFFFFF;\n",
              "      --disabled-bg-color: #3B4455;\n",
              "      --disabled-fill-color: #666;\n",
              "  }\n",
              "\n",
              "  .colab-df-quickchart {\n",
              "    background-color: var(--bg-color);\n",
              "    border: none;\n",
              "    border-radius: 50%;\n",
              "    cursor: pointer;\n",
              "    display: none;\n",
              "    fill: var(--fill-color);\n",
              "    height: 32px;\n",
              "    padding: 0;\n",
              "    width: 32px;\n",
              "  }\n",
              "\n",
              "  .colab-df-quickchart:hover {\n",
              "    background-color: var(--hover-bg-color);\n",
              "    box-shadow: 0 1px 2px rgba(60, 64, 67, 0.3), 0 1px 3px 1px rgba(60, 64, 67, 0.15);\n",
              "    fill: var(--button-hover-fill-color);\n",
              "  }\n",
              "\n",
              "  .colab-df-quickchart-complete:disabled,\n",
              "  .colab-df-quickchart-complete:disabled:hover {\n",
              "    background-color: var(--disabled-bg-color);\n",
              "    fill: var(--disabled-fill-color);\n",
              "    box-shadow: none;\n",
              "  }\n",
              "\n",
              "  .colab-df-spinner {\n",
              "    border: 2px solid var(--fill-color);\n",
              "    border-color: transparent;\n",
              "    border-bottom-color: var(--fill-color);\n",
              "    animation:\n",
              "      spin 1s steps(1) infinite;\n",
              "  }\n",
              "\n",
              "  @keyframes spin {\n",
              "    0% {\n",
              "      border-color: transparent;\n",
              "      border-bottom-color: var(--fill-color);\n",
              "      border-left-color: var(--fill-color);\n",
              "    }\n",
              "    20% {\n",
              "      border-color: transparent;\n",
              "      border-left-color: var(--fill-color);\n",
              "      border-top-color: var(--fill-color);\n",
              "    }\n",
              "    30% {\n",
              "      border-color: transparent;\n",
              "      border-left-color: var(--fill-color);\n",
              "      border-top-color: var(--fill-color);\n",
              "      border-right-color: var(--fill-color);\n",
              "    }\n",
              "    40% {\n",
              "      border-color: transparent;\n",
              "      border-right-color: var(--fill-color);\n",
              "      border-top-color: var(--fill-color);\n",
              "    }\n",
              "    60% {\n",
              "      border-color: transparent;\n",
              "      border-right-color: var(--fill-color);\n",
              "    }\n",
              "    80% {\n",
              "      border-color: transparent;\n",
              "      border-right-color: var(--fill-color);\n",
              "      border-bottom-color: var(--fill-color);\n",
              "    }\n",
              "    90% {\n",
              "      border-color: transparent;\n",
              "      border-bottom-color: var(--fill-color);\n",
              "    }\n",
              "  }\n",
              "</style>\n",
              "\n",
              "      <script>\n",
              "        async function quickchart(key) {\n",
              "          const quickchartButtonEl =\n",
              "            document.querySelector('#' + key + ' button');\n",
              "          quickchartButtonEl.disabled = true;  // To prevent multiple clicks.\n",
              "          quickchartButtonEl.classList.add('colab-df-spinner');\n",
              "          try {\n",
              "            const charts = await google.colab.kernel.invokeFunction(\n",
              "                'suggestCharts', [key], {});\n",
              "          } catch (error) {\n",
              "            console.error('Error during call to suggestCharts:', error);\n",
              "          }\n",
              "          quickchartButtonEl.classList.remove('colab-df-spinner');\n",
              "          quickchartButtonEl.classList.add('colab-df-quickchart-complete');\n",
              "        }\n",
              "        (() => {\n",
              "          let quickchartButtonEl =\n",
              "            document.querySelector('#df-d0bc77b0-f9c2-44c9-8599-91e53e9e12c2 button');\n",
              "          quickchartButtonEl.style.display =\n",
              "            google.colab.kernel.accessAllowed ? 'block' : 'none';\n",
              "        })();\n",
              "      </script>\n",
              "    </div>\n",
              "\n",
              "    </div>\n",
              "  </div>\n"
            ],
            "application/vnd.google.colaboratory.intrinsic+json": {
              "type": "dataframe",
              "summary": "{\n  \"name\": \"display(df\",\n  \"rows\": 8,\n  \"fields\": [\n    {\n      \"column\": \"Quantity\",\n      \"properties\": {\n        \"dtype\": \"number\",\n        \"std\": 1636.3260482535327,\n        \"min\": 1.0,\n        \"max\": 4631.0,\n        \"num_unique_values\": 8,\n        \"samples\": [\n          3.023105160872382,\n          3.0,\n          4631.0\n        ],\n        \"semantic_type\": \"\",\n        \"description\": \"\"\n      }\n    },\n    {\n      \"column\": \"Price Per Unit\",\n      \"properties\": {\n        \"dtype\": \"number\",\n        \"std\": 1636.3356262070317,\n        \"min\": 1.0,\n        \"max\": 4631.0,\n        \"num_unique_values\": 8,\n        \"samples\": [\n          2.9588641762038437,\n          3.0,\n          4631.0\n        ],\n        \"semantic_type\": \"\",\n        \"description\": \"\"\n      }\n    },\n    {\n      \"column\": \"Total Spent\",\n      \"properties\": {\n        \"dtype\": \"number\",\n        \"std\": 1634.1041019636411,\n        \"min\": 1.0,\n        \"max\": 4631.0,\n        \"num_unique_values\": 8,\n        \"samples\": [\n          8.853379399697689,\n          8.0,\n          4631.0\n        ],\n        \"semantic_type\": \"\",\n        \"description\": \"\"\n      }\n    }\n  ]\n}"
            }
          },
          "metadata": {}
        },
        {
          "output_type": "stream",
          "name": "stdout",
          "text": [
            "\n",
            "jumlah baris duplikasi setelah dibersihkan:\n"
          ]
        },
        {
          "output_type": "display_data",
          "data": {
            "text/plain": [
              "np.int64(0)"
            ]
          },
          "metadata": {}
        }
      ]
    },
    {
      "cell_type": "markdown",
      "source": [
        "# Bagian 3: Data Preprocessing\n",
        "> ***Feby Tri Wulandari***"
      ],
      "metadata": {
        "id": "6_M4UFDV5XT_"
      }
    },
    {
      "cell_type": "markdown",
      "source": [
        "## Cek Anomali Data\n",
        "\n",
        "Mendeteksi dan menangani nilai anomali pada kolom kategorikal dengan me-*replace* data yang berisi **ERROR** dan **UNKNOWN** menjadi **Other**."
      ],
      "metadata": {
        "id": "GfY19LqW5uzp"
      }
    },
    {
      "cell_type": "code",
      "source": [
        "categorical_cols = ['Item', 'Payment Method', 'Location']\n",
        "\n",
        "# Nilai unik di setiap kolom kategorikal\n",
        "for col in categorical_cols:\n",
        "    print(f\"{col}: {df[col].unique()}\")"
      ],
      "metadata": {
        "colab": {
          "base_uri": "https://localhost:8080/"
        },
        "id": "T7JzxFlr53o5",
        "outputId": "1866d540-ce4b-4d2d-db6d-4d32bac03205"
      },
      "execution_count": 134,
      "outputs": [
        {
          "output_type": "stream",
          "name": "stdout",
          "text": [
            "Item: ['Coffee' 'Cake' 'Cookie' 'Salad' 'UNKNOWN' 'Sandwich' 'Juice' 'Smoothie'\n",
            " 'ERROR' 'Tea']\n",
            "Payment Method: ['Credit Card' 'Cash' 'UNKNOWN' 'Digital Wallet' 'ERROR']\n",
            "Location: ['Takeaway' 'In-store' 'UNKNOWN' 'ERROR']\n"
          ]
        }
      ]
    },
    {
      "cell_type": "code",
      "source": [
        "# Identifikasi anomali di setiap kolom kategorikal\n",
        "anomalies = ['UNKNOWN', 'ERROR']\n",
        "\n",
        "for col in categorical_cols:\n",
        "    total = len(df[col])\n",
        "    count_anom = df[col].isin(anomalies).sum()\n",
        "    percent_anom = (count_anom / total) * 100\n",
        "    print(f\"{col}: {count_anom} data anomali ({percent_anom:.2f}%)\")"
      ],
      "metadata": {
        "colab": {
          "base_uri": "https://localhost:8080/"
        },
        "id": "rd5k3Z8h8Os_",
        "outputId": "b4ea8605-1d6a-4bbe-991b-85acd0b941c7"
      },
      "execution_count": 135,
      "outputs": [
        {
          "output_type": "stream",
          "name": "stdout",
          "text": [
            "Item: 305 data anomali (6.59%)\n",
            "Payment Method: 353 data anomali (7.62%)\n",
            "Location: 483 data anomali (10.43%)\n"
          ]
        }
      ]
    },
    {
      "cell_type": "code",
      "source": [
        "# Drop baris yang berisi anomali pada kolom Item\n",
        "before_item = df.shape[0]\n",
        "df = df[~df['Item'].isin(anomalies)]\n",
        "after_item = df.shape[0]\n",
        "print(f\"\\nItem: {before_item - after_item} baris dihapus \"\n",
        "      f\"({((before_item - after_item)/before_item)*100:.2f}%)\")"
      ],
      "metadata": {
        "colab": {
          "base_uri": "https://localhost:8080/"
        },
        "id": "vzkndOqm9cPh",
        "outputId": "0ef7b1da-4b98-4670-ed8b-301f908447de"
      },
      "execution_count": 136,
      "outputs": [
        {
          "output_type": "stream",
          "name": "stdout",
          "text": [
            "\n",
            "Item: 305 baris dihapus (6.59%)\n"
          ]
        }
      ]
    },
    {
      "cell_type": "code",
      "source": [
        "# Replace anomali menjadi \"Other Payment Method\" dan \"Other Location\"\n",
        "df['Payment Method'] = df['Payment Method'].replace(\n",
        "    {\"ERROR\": \"Other Payment Method\", \"UNKNOWN\": \"Other Payment Method\"}\n",
        ")\n",
        "df['Location'] = df['Location'].replace(\n",
        "    {\"ERROR\": \"Other Location\", \"UNKNOWN\": \"Other Location\"}\n",
        ")"
      ],
      "metadata": {
        "id": "spo2xlQ5QXOp"
      },
      "execution_count": 137,
      "outputs": []
    },
    {
      "cell_type": "code",
      "source": [
        "# Cek sisa anomali setelah cleaning\n",
        "for col in categorical_cols:\n",
        "    total = len(df[col])\n",
        "    count_anom = df[col].isin(anomalies).sum()\n",
        "    percent_anom = (count_anom / total) * 100\n",
        "    if count_anom == 0:\n",
        "        print(f\"{col}: Tidak ada data anomali\")\n",
        "    else:\n",
        "        print(f\"{col}: {count_anom} data anomali ({percent_anom:.2f}%)\")"
      ],
      "metadata": {
        "colab": {
          "base_uri": "https://localhost:8080/"
        },
        "id": "V-i4H0wtQ67x",
        "outputId": "20f83d95-1fc1-42ce-edea-1e1c1d4957d6"
      },
      "execution_count": 140,
      "outputs": [
        {
          "output_type": "stream",
          "name": "stdout",
          "text": [
            "Item: Tidak ada data anomali\n",
            "Payment Method: Tidak ada data anomali\n",
            "Location: Tidak ada data anomali\n"
          ]
        }
      ]
    },
    {
      "cell_type": "markdown",
      "source": [
        "## Visualisasi sebelum Preprocessing"
      ],
      "metadata": {
        "id": "lxVAnoeZ_AV_"
      }
    },
    {
      "cell_type": "code",
      "source": [
        "plt.figure(figsize=(10,7))\n",
        "df[numerical_cols].hist(\n",
        "    bins=20,\n",
        "    color='#2c7fb8',\n",
        "    edgecolor='black'\n",
        ")\n",
        "plt.suptitle(\"Distribusi Data Numerik Sebelum Preprocessing\", fontsize=15)\n",
        "plt.tight_layout(rect=[0,0,1,0.95])\n",
        "plt.show()"
      ],
      "metadata": {
        "colab": {
          "base_uri": "https://localhost:8080/",
          "height": 509
        },
        "id": "6NJRlq2B_Fha",
        "outputId": "3fc71fe0-0b1f-4ad0-b819-118216e10c4f"
      },
      "execution_count": 141,
      "outputs": [
        {
          "output_type": "display_data",
          "data": {
            "text/plain": [
              "<Figure size 1000x700 with 0 Axes>"
            ]
          },
          "metadata": {}
        },
        {
          "output_type": "display_data",
          "data": {
            "text/plain": [
              "<Figure size 640x480 with 4 Axes>"
            ],
            "image/png": "[encoded data removed]"
          },
          "metadata": {}
        }
      ]
    },
    {
      "cell_type": "markdown",
      "source": [
        "## Preprocessing"
      ],
      "metadata": {
        "id": "pejdcAm4_NAH"
      }
    },
    {
      "cell_type": "code",
      "source": [
        "# Encoding Kategorikal\n",
        "df_encoded = pd.get_dummies(df, columns=categorical_cols, drop_first=True)\n",
        "\n",
        "print(\"\\nKolom setelah encoding:\")\n",
        "print(df_encoded.columns)"
      ],
      "metadata": {
        "colab": {
          "base_uri": "https://localhost:8080/"
        },
        "id": "W4gq7mAQ_YLr",
        "outputId": "8b9312c3-bd71-4f58-e4bd-3a1967834f3c"
      },
      "execution_count": 142,
      "outputs": [
        {
          "output_type": "stream",
          "name": "stdout",
          "text": [
            "\n",
            "Kolom setelah encoding:\n",
            "Index(['Transaction ID', 'Quantity', 'Price Per Unit', 'Total Spent',\n",
            "       'Transaction Date', 'Item_Coffee', 'Item_Cookie', 'Item_Juice',\n",
            "       'Item_Salad', 'Item_Sandwich', 'Item_Smoothie', 'Item_Tea',\n",
            "       'Payment Method_Credit Card', 'Payment Method_Digital Wallet',\n",
            "       'Payment Method_Other Payment Method', 'Location_Other Location',\n",
            "       'Location_Takeaway'],\n",
            "      dtype='object')\n"
          ]
        }
      ]
    },
    {
      "cell_type": "code",
      "source": [
        "# Normalisasi / Standardisasi Data Numerik\n",
        "scaler = StandardScaler()\n",
        "df_scaled = df_encoded.copy()\n",
        "df_scaled[numerical_cols] = scaler.fit_transform(df_scaled[numerical_cols])\n",
        "\n",
        "print(\"\\nStatistik numerik setelah standardisasi:\")\n",
        "display(df_scaled[numerical_cols].describe().round(2))"
      ],
      "metadata": {
        "colab": {
          "base_uri": "https://localhost:8080/",
          "height": 335
        },
        "id": "50ISS_Pk_bm_",
        "outputId": "314b9ee0-9d08-4987-af58-10943dc4f3ea"
      },
      "execution_count": 143,
      "outputs": [
        {
          "output_type": "stream",
          "name": "stdout",
          "text": [
            "\n",
            "Statistik numerik setelah standardisasi:\n"
          ]
        },
        {
          "output_type": "display_data",
          "data": {
            "text/plain": [
              "       Quantity  Price Per Unit  Total Spent\n",
              "count   4326.00         4326.00      4326.00\n",
              "mean       0.00            0.00         0.00\n",
              "std        1.00            1.00         1.00\n",
              "min       -1.46           -1.56        -1.35\n",
              "25%       -0.74           -0.76        -0.83\n",
              "50%       -0.02            0.03        -0.15\n",
              "75%        0.70            0.83         0.54\n",
              "max        1.42            1.62         2.60"
            ],
            "text/html": [
              "\n",
              "  <div id=\"df-d8439655-9b0f-47c6-b659-4fcc4bc74fe1\" class=\"colab-df-container\">\n",
              "    <div>\n",
              "<style scoped>\n",
              "    .dataframe tbody tr th:only-of-type {\n",
              "        vertical-align: middle;\n",
              "    }\n",
              "\n",
              "    .dataframe tbody tr th {\n",
              "        vertical-align: top;\n",
              "    }\n",
              "\n",
              "    .dataframe thead th {\n",
              "        text-align: right;\n",
              "    }\n",
              "</style>\n",
              "<table border=\"1\" class=\"dataframe\">\n",
              "  <thead>\n",
              "    <tr style=\"text-align: right;\">\n",
              "      <th></th>\n",
              "      <th>Quantity</th>\n",
              "      <th>Price Per Unit</th>\n",
              "      <th>Total Spent</th>\n",
              "    </tr>\n",
              "  </thead>\n",
              "  <tbody>\n",
              "    <tr>\n",
              "      <th>count</th>\n",
              "      <td>4326.00</td>\n",
              "      <td>4326.00</td>\n",
              "      <td>4326.00</td>\n",
              "    </tr>\n",
              "    <tr>\n",
              "      <th>mean</th>\n",
              "      <td>0.00</td>\n",
              "      <td>0.00</td>\n",
              "      <td>0.00</td>\n",
              "    </tr>\n",
              "    <tr>\n",
              "      <th>std</th>\n",
              "      <td>1.00</td>\n",
              "      <td>1.00</td>\n",
              "      <td>1.00</td>\n",
              "    </tr>\n",
              "    <tr>\n",
              "      <th>min</th>\n",
              "      <td>-1.46</td>\n",
              "      <td>-1.56</td>\n",
              "      <td>-1.35</td>\n",
              "    </tr>\n",
              "    <tr>\n",
              "      <th>25%</th>\n",
              "      <td>-0.74</td>\n",
              "      <td>-0.76</td>\n",
              "      <td>-0.83</td>\n",
              "    </tr>\n",
              "    <tr>\n",
              "      <th>50%</th>\n",
              "      <td>-0.02</td>\n",
              "      <td>0.03</td>\n",
              "      <td>-0.15</td>\n",
              "    </tr>\n",
              "    <tr>\n",
              "      <th>75%</th>\n",
              "      <td>0.70</td>\n",
              "      <td>0.83</td>\n",
              "      <td>0.54</td>\n",
              "    </tr>\n",
              "    <tr>\n",
              "      <th>max</th>\n",
              "      <td>1.42</td>\n",
              "      <td>1.62</td>\n",
              "      <td>2.60</td>\n",
              "    </tr>\n",
              "  </tbody>\n",
              "</table>\n",
              "</div>\n",
              "    <div class=\"colab-df-buttons\">\n",
              "\n",
              "  <div class=\"colab-df-container\">\n",
              "    <button class=\"colab-df-convert\" onclick=\"convertToInteractive('df-d8439655-9b0f-47c6-b659-4fcc4bc74fe1')\"\n",
              "            title=\"Convert this dataframe to an interactive table.\"\n",
              "            style=\"display:none;\">\n",
              "\n",
              "  <svg xmlns=\"http://www.w3.org/2000/svg\" height=\"24px\" viewBox=\"0 -960 960 960\">\n",
              "    <path d=\"M120-120v-720h720v720H120Zm60-500h600v-160H180v160Zm220 220h160v-160H400v160Zm0 220h160v-160H400v160ZM180-400h160v-160H180v160Zm440 0h160v-160H620v160ZM180-180h160v-160H180v160Zm440 0h160v-160H620v160Z\"/>\n",
              "  </svg>\n",
              "    </button>\n",
              "\n",
              "  <style>\n",
              "    .colab-df-container {\n",
              "      display:flex;\n",
              "      gap: 12px;\n",
              "    }\n",
              "\n",
              "    .colab-df-convert {\n",
              "      background-color: #E8F0FE;\n",
              "      border: none;\n",
              "      border-radius: 50%;\n",
              "      cursor: pointer;\n",
              "      display: none;\n",
              "      fill: #1967D2;\n",
              "      height: 32px;\n",
              "      padding: 0 0 0 0;\n",
              "      width: 32px;\n",
              "    }\n",
              "\n",
              "    .colab-df-convert:hover {\n",
              "      background-color: #E2EBFA;\n",
              "      box-shadow: 0px 1px 2px rgba(60, 64, 67, 0.3), 0px 1px 3px 1px rgba(60, 64, 67, 0.15);\n",
              "      fill: #174EA6;\n",
              "    }\n",
              "\n",
              "    .colab-df-buttons div {\n",
              "      margin-bottom: 4px;\n",
              "    }\n",
              "\n",
              "    [theme=dark] .colab-df-convert {\n",
              "      background-color: #3B4455;\n",
              "      fill: #D2E3FC;\n",
              "    }\n",
              "\n",
              "    [theme=dark] .colab-df-convert:hover {\n",
              "      background-color: #434B5C;\n",
              "      box-shadow: 0px 1px 3px 1px rgba(0, 0, 0, 0.15);\n",
              "      filter: drop-shadow(0px 1px 2px rgba(0, 0, 0, 0.3));\n",
              "      fill: #FFFFFF;\n",
              "    }\n",
              "  </style>\n",
              "\n",
              "    <script>\n",
              "      const buttonEl =\n",
              "        document.querySelector('#df-d8439655-9b0f-47c6-b659-4fcc4bc74fe1 button.colab-df-convert');\n",
              "      buttonEl.style.display =\n",
              "        google.colab.kernel.accessAllowed ? 'block' : 'none';\n",
              "\n",
              "      async function convertToInteractive(key) {\n",
              "        const element = document.querySelector('#df-d8439655-9b0f-47c6-b659-4fcc4bc74fe1');\n",
              "        const dataTable =\n",
              "          await google.colab.kernel.invokeFunction('convertToInteractive',\n",
              "                                                    [key], {});\n",
              "        if (!dataTable) return;\n",
              "\n",
              "        const docLinkHtml = 'Like what you see? Visit the ' +\n",
              "          '<a target=\"_blank\" href=https://colab.research.google.com/notebooks/data_table.ipynb>data table notebook</a>'\n",
              "          + ' to learn more about interactive tables.';\n",
              "        element.innerHTML = '';\n",
              "        dataTable['output_type'] = 'display_data';\n",
              "        await google.colab.output.renderOutput(dataTable, element);\n",
              "        const docLink = document.createElement('div');\n",
              "        docLink.innerHTML = docLinkHtml;\n",
              "        element.appendChild(docLink);\n",
              "      }\n",
              "    </script>\n",
              "  </div>\n",
              "\n",
              "\n",
              "    <div id=\"df-8f00d62d-10a1-42ee-9beb-4bafc0598c3f\">\n",
              "      <button class=\"colab-df-quickchart\" onclick=\"quickchart('df-8f00d62d-10a1-42ee-9beb-4bafc0598c3f')\"\n",
              "                title=\"Suggest charts\"\n",
              "                style=\"display:none;\">\n",
              "\n",
              "<svg xmlns=\"http://www.w3.org/2000/svg\" height=\"24px\"viewBox=\"0 0 24 24\"\n",
              "     width=\"24px\">\n",
              "    <g>\n",
              "        <path d=\"M19 3H5c-1.1 0-2 .9-2 2v14c0 1.1.9 2 2 2h14c1.1 0 2-.9 2-2V5c0-1.1-.9-2-2-2zM9 17H7v-7h2v7zm4 0h-2V7h2v10zm4 0h-2v-4h2v4z\"/>\n",
              "    </g>\n",
              "</svg>\n",
              "      </button>\n",
              "\n",
              "<style>\n",
              "  .colab-df-quickchart {\n",
              "      --bg-color: #E8F0FE;\n",
              "      --fill-color: #1967D2;\n",
              "      --hover-bg-color: #E2EBFA;\n",
              "      --hover-fill-color: #174EA6;\n",
              "      --disabled-fill-color: #AAA;\n",
              "      --disabled-bg-color: #DDD;\n",
              "  }\n",
              "\n",
              "  [theme=dark] .colab-df-quickchart {\n",
              "      --bg-color: #3B4455;\n",
              "      --fill-color: #D2E3FC;\n",
              "      --hover-bg-color: #434B5C;\n",
              "      --hover-fill-color: #FFFFFF;\n",
              "      --disabled-bg-color: #3B4455;\n",
              "      --disabled-fill-color: #666;\n",
              "  }\n",
              "\n",
              "  .colab-df-quickchart {\n",
              "    background-color: var(--bg-color);\n",
              "    border: none;\n",
              "    border-radius: 50%;\n",
              "    cursor: pointer;\n",
              "    display: none;\n",
              "    fill: var(--fill-color);\n",
              "    height: 32px;\n",
              "    padding: 0;\n",
              "    width: 32px;\n",
              "  }\n",
              "\n",
              "  .colab-df-quickchart:hover {\n",
              "    background-color: var(--hover-bg-color);\n",
              "    box-shadow: 0 1px 2px rgba(60, 64, 67, 0.3), 0 1px 3px 1px rgba(60, 64, 67, 0.15);\n",
              "    fill: var(--button-hover-fill-color);\n",
              "  }\n",
              "\n",
              "  .colab-df-quickchart-complete:disabled,\n",
              "  .colab-df-quickchart-complete:disabled:hover {\n",
              "    background-color: var(--disabled-bg-color);\n",
              "    fill: var(--disabled-fill-color);\n",
              "    box-shadow: none;\n",
              "  }\n",
              "\n",
              "  .colab-df-spinner {\n",
              "    border: 2px solid var(--fill-color);\n",
              "    border-color: transparent;\n",
              "    border-bottom-color: var(--fill-color);\n",
              "    animation:\n",
              "      spin 1s steps(1) infinite;\n",
              "  }\n",
              "\n",
              "  @keyframes spin {\n",
              "    0% {\n",
              "      border-color: transparent;\n",
              "      border-bottom-color: var(--fill-color);\n",
              "      border-left-color: var(--fill-color);\n",
              "    }\n",
              "    20% {\n",
              "      border-color: transparent;\n",
              "      border-left-color: var(--fill-color);\n",
              "      border-top-color: var(--fill-color);\n",
              "    }\n",
              "    30% {\n",
              "      border-color: transparent;\n",
              "      border-left-color: var(--fill-color);\n",
              "      border-top-color: var(--fill-color);\n",
              "      border-right-color: var(--fill-color);\n",
              "    }\n",
              "    40% {\n",
              "      border-color: transparent;\n",
              "      border-right-color: var(--fill-color);\n",
              "      border-top-color: var(--fill-color);\n",
              "    }\n",
              "    60% {\n",
              "      border-color: transparent;\n",
              "      border-right-color: var(--fill-color);\n",
              "    }\n",
              "    80% {\n",
              "      border-color: transparent;\n",
              "      border-right-color: var(--fill-color);\n",
              "      border-bottom-color: var(--fill-color);\n",
              "    }\n",
              "    90% {\n",
              "      border-color: transparent;\n",
              "      border-bottom-color: var(--fill-color);\n",
              "    }\n",
              "  }\n",
              "</style>\n",
              "\n",
              "      <script>\n",
              "        async function quickchart(key) {\n",
              "          const quickchartButtonEl =\n",
              "            document.querySelector('#' + key + ' button');\n",
              "          quickchartButtonEl.disabled = true;  // To prevent multiple clicks.\n",
              "          quickchartButtonEl.classList.add('colab-df-spinner');\n",
              "          try {\n",
              "            const charts = await google.colab.kernel.invokeFunction(\n",
              "                'suggestCharts', [key], {});\n",
              "          } catch (error) {\n",
              "            console.error('Error during call to suggestCharts:', error);\n",
              "          }\n",
              "          quickchartButtonEl.classList.remove('colab-df-spinner');\n",
              "          quickchartButtonEl.classList.add('colab-df-quickchart-complete');\n",
              "        }\n",
              "        (() => {\n",
              "          let quickchartButtonEl =\n",
              "            document.querySelector('#df-8f00d62d-10a1-42ee-9beb-4bafc0598c3f button');\n",
              "          quickchartButtonEl.style.display =\n",
              "            google.colab.kernel.accessAllowed ? 'block' : 'none';\n",
              "        })();\n",
              "      </script>\n",
              "    </div>\n",
              "\n",
              "    </div>\n",
              "  </div>\n"
            ],
            "application/vnd.google.colaboratory.intrinsic+json": {
              "type": "dataframe",
              "summary": "{\n  \"name\": \"display(df_scaled[numerical_cols]\",\n  \"rows\": 8,\n  \"fields\": [\n    {\n      \"column\": \"Quantity\",\n      \"properties\": {\n        \"dtype\": \"number\",\n        \"std\": 1529.4267943415925,\n        \"min\": -1.46,\n        \"max\": 4326.0,\n        \"num_unique_values\": 8,\n        \"samples\": [\n          0.0,\n          -0.02,\n          4326.0\n        ],\n        \"semantic_type\": \"\",\n        \"description\": \"\"\n      }\n    },\n    {\n      \"column\": \"Price Per Unit\",\n      \"properties\": {\n        \"dtype\": \"number\",\n        \"std\": 1529.413712001152,\n        \"min\": -1.56,\n        \"max\": 4326.0,\n        \"num_unique_values\": 8,\n        \"samples\": [\n          0.0,\n          0.03,\n          4326.0\n        ],\n        \"semantic_type\": \"\",\n        \"description\": \"\"\n      }\n    },\n    {\n      \"column\": \"Total Spent\",\n      \"properties\": {\n        \"dtype\": \"number\",\n        \"std\": 1529.381021430729,\n        \"min\": -1.35,\n        \"max\": 4326.0,\n        \"num_unique_values\": 8,\n        \"samples\": [\n          0.0,\n          -0.15,\n          4326.0\n        ],\n        \"semantic_type\": \"\",\n        \"description\": \"\"\n      }\n    }\n  ]\n}"
            }
          },
          "metadata": {}
        }
      ]
    },
    {
      "cell_type": "code",
      "source": [
        "# Reduksi Dimensi (PCA ke 2 komponen utama)\n",
        "pca = PCA(n_components=2)\n",
        "pca_result = pca.fit_transform(df_scaled[numerical_cols])\n",
        "df_scaled['PCA1'] = pca_result[:, 0]\n",
        "df_scaled['PCA2'] = pca_result[:, 1]"
      ],
      "metadata": {
        "id": "TGlO_Xdx_doH"
      },
      "execution_count": 144,
      "outputs": []
    },
    {
      "cell_type": "markdown",
      "source": [
        "## Visualisasi setelah Preprocessing"
      ],
      "metadata": {
        "id": "8aBB8F2k_hlj"
      }
    },
    {
      "cell_type": "code",
      "source": [
        "# Histogram setelah scaling\n",
        "plt.figure(figsize=(10,7))\n",
        "df_scaled[numerical_cols].hist(\n",
        "    bins=20,\n",
        "    color='#2c7fb8',\n",
        "    edgecolor='black'\n",
        ")\n",
        "plt.suptitle(\"Distribusi Data Numerik Sebelum Preprocessing\", fontsize=15)\n",
        "plt.tight_layout(rect=[0,0,1,0.95])\n",
        "plt.show()"
      ],
      "metadata": {
        "colab": {
          "base_uri": "https://localhost:8080/",
          "height": 509
        },
        "id": "bWV-cO4i_kgV",
        "outputId": "b4ff9861-2f84-480a-d758-ea50c38f2e06"
      },
      "execution_count": 145,
      "outputs": [
        {
          "output_type": "display_data",
          "data": {
            "text/plain": [
              "<Figure size 1000x700 with 0 Axes>"
            ]
          },
          "metadata": {}
        },
        {
          "output_type": "display_data",
          "data": {
            "text/plain": [
              "<Figure size 640x480 with 4 Axes>"
            ],
            "image/png": "[encoded data removed]"
          },
          "metadata": {}
        }
      ]
    },
    {
      "cell_type": "code",
      "source": [
        "# Heatmap korelasi antar variabel numerik setelah scaling\n",
        "plt.figure(figsize=(7,5))\n",
        "sns.heatmap(\n",
        "    df_scaled[numerical_cols].corr(),\n",
        "    annot=True, fmt=\".2f\",\n",
        "    cmap='YlGnBu',\n",
        "    linewidths=0.5, square=True\n",
        ")\n",
        "plt.title(\"Heatmap Korelasi Numerik Setelah Preprocessing\\n\", fontsize=15)\n",
        "plt.show()"
      ],
      "metadata": {
        "colab": {
          "base_uri": "https://localhost:8080/",
          "height": 493
        },
        "id": "3CxZ001d_nRz",
        "outputId": "51d2f606-649b-4ef4-d0d5-49c9557dc35d"
      },
      "execution_count": 146,
      "outputs": [
        {
          "output_type": "display_data",
          "data": {
            "text/plain": [
              "<Figure size 700x500 with 2 Axes>"
            ],
            "image/png": "[encoded data removed]"
          },
          "metadata": {}
        }
      ]
    },
    {
      "cell_type": "code",
      "source": [
        "# Scatterplot hasil PCA\n",
        "plt.figure(figsize=(7,5))\n",
        "sns.scatterplot(\n",
        "    x=\"PCA1\", y=\"PCA2\",\n",
        "    data=df_scaled,\n",
        "    alpha=0.7,\n",
        "    s=50,\n",
        "    color='#2c7fb8'\n",
        ")\n",
        "plt.title(\"Visualisasi Data Setelah PCA (2D)\\n\", fontsize=15)\n",
        "plt.xlabel(\"PCA1\")\n",
        "plt.ylabel(\"PCA2\")\n",
        "plt.grid(True, linestyle='--', alpha=0.5)\n",
        "plt.show()"
      ],
      "metadata": {
        "colab": {
          "base_uri": "https://localhost:8080/",
          "height": 512
        },
        "id": "6pEvQ1X2_oyl",
        "outputId": "f0307f8f-addd-4b2e-cb7d-80172b8020fc"
      },
      "execution_count": 147,
      "outputs": [
        {
          "output_type": "display_data",
          "data": {
            "text/plain": [
              "<Figure size 700x500 with 1 Axes>"
            ],
            "image/png": "[encoded data removed]"
          },
          "metadata": {}
        }
      ]
    }
  ]
}